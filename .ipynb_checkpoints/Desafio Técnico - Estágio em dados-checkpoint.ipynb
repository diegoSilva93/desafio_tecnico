{
 "cells": [
  {
   "cell_type": "markdown",
   "id": "e1cbaf6a",
   "metadata": {},
   "source": [
    "# Desafio técnico Dados"
   ]
  },
  {
   "cell_type": "markdown",
   "id": "332ddaea",
   "metadata": {},
   "source": [
    "### Objetivo"
   ]
  },
  {
   "cell_type": "markdown",
   "id": "91211ae4",
   "metadata": {},
   "source": [
    "O novo aplicativo de streaming \"5GFlix\" está com o desafio de fazer estudos de mercado para formular a\n",
    "estratégia de negócio que irão adotar.\n",
    "Para uma parte do estudo de mercado, a \"5Gflix\" precisa fazer análises em cima de filmes e séries que\n",
    "estão disponíveis na Netflix, a sua concorrente direta.\n",
    "O CTO da \"5Gflix\", Alan Turing, entrou em contato com a empresa para construir uma estrutura lógica\n",
    "que possibilite que o time de BI da \"5GFlix\" responda a várias perguntas de negócio relacionadas aos\n",
    "dados das streams de vídeo, que são: <br>\n",
    "1.1. Quantos filmes estão disponíveis no dataset? <br> 1.2. Qual é o nome dos 5 filmes com melhor média de avaliação? <br> 1.3. Quais os 5 anos com menos lançamentos de filmes? <br> 1.4. Quantos filmes que possuem avaliação maior ou igual a 4.7, considerando apenas os filmes avaliados na última data de avaliação do dataset?  <br> 1.5. Dos filmes encontrados na questão anterior, quais são os 10 filmes com as piores notas e quais as notas? <br> 1.6. Quais os id's dos 5 customer que mais avaliaram filmes e quantas avaliações cada um fez?"
   ]
  },
  {
   "cell_type": "markdown",
   "id": "c19391ef",
   "metadata": {},
   "source": [
    "### Dataset Utilizados"
   ]
  },
  {
   "cell_type": "markdown",
   "id": "27bfad76",
   "metadata": {},
   "source": [
    "**Base_01:** https://drive.google.com/file/d/1gLsCjaMrL91ECdThq58cZAzB9tPxG18g/view?usp=sharing <br/>\n",
    "**Base_02:** https://drive.google.com/file/d/1C_T1w8fc7Oa8MeTo4LMTEcv90IfEOS-6/view?usp=sharing"
   ]
  },
  {
   "cell_type": "markdown",
   "id": "199a8aca",
   "metadata": {},
   "source": [
    "### Importação das bibliotecas"
   ]
  },
  {
   "cell_type": "code",
   "execution_count": 1,
   "id": "b11ad6e2",
   "metadata": {},
   "outputs": [],
   "source": [
    "import numpy as np\n",
    "import pandas as pd\n",
    "import matplotlib.pyplot as plt\n",
    "import seaborn as sns"
   ]
  },
  {
   "cell_type": "code",
   "execution_count": 2,
   "id": "3fe51eda",
   "metadata": {},
   "outputs": [
    {
     "name": "stdout",
     "output_type": "stream",
     "text": [
      "Author: Diego Oliveira da Silva\n",
      "\n",
      "pandas    : 1.4.1\n",
      "matplotlib: 3.5.1\n",
      "seaborn   : 0.11.2\n",
      "numpy     : 1.19.5\n",
      "\n"
     ]
    }
   ],
   "source": [
    "%reload_ext watermark\n",
    "%watermark -a \"Diego Oliveira da Silva\" --iversions"
   ]
  },
  {
   "cell_type": "markdown",
   "id": "ebf124a6",
   "metadata": {},
   "source": [
    "### Carregamento dos arquivos"
   ]
  },
  {
   "cell_type": "code",
   "execution_count": 3,
   "id": "285bb655",
   "metadata": {},
   "outputs": [],
   "source": [
    "base_de_dados_01 = pd.read_csv(\"movies.csv\", sep = \";\", header = None)"
   ]
  },
  {
   "cell_type": "code",
   "execution_count": 4,
   "id": "ab699a2d",
   "metadata": {},
   "outputs": [],
   "source": [
    "base_de_dados_02 = pd.read_csv(\"customers_rating.csv\", sep = \";\")"
   ]
  },
  {
   "cell_type": "markdown",
   "id": "daa36324",
   "metadata": {},
   "source": [
    "## Análise exploratória e tratamento dos dados"
   ]
  },
  {
   "cell_type": "markdown",
   "id": "085a5617",
   "metadata": {},
   "source": [
    "* Primeiramente será necessário realizar uma análise exploratória dos dados que tem como objetivo verificar se o conjunto de dados não possue algum tipo de erro ou dados incorreto. <br>\n",
    "* A análise a ser realizada será: <br>\n",
    "    (1) Nomes das colunas<br>\n",
    "    (2) Tamanho de linhas e colunas<br>\n",
    "    (3) Tipos de dados do conjunto de dados<br>\n",
    "    (4) Se contém valores nulos<br>\n",
    "    (5) Se contém valores duplicados ou não dependendo do dataset"
   ]
  },
  {
   "cell_type": "markdown",
   "id": "7891cebf",
   "metadata": {},
   "source": [
    "#### **Análise exploratória da base_de_dados_01**"
   ]
  },
  {
   "cell_type": "code",
   "execution_count": 5,
   "id": "cdc1a9e0",
   "metadata": {},
   "outputs": [
    {
     "data": {
      "text/html": [
       "<div>\n",
       "<style scoped>\n",
       "    .dataframe tbody tr th:only-of-type {\n",
       "        vertical-align: middle;\n",
       "    }\n",
       "\n",
       "    .dataframe tbody tr th {\n",
       "        vertical-align: top;\n",
       "    }\n",
       "\n",
       "    .dataframe thead th {\n",
       "        text-align: right;\n",
       "    }\n",
       "</style>\n",
       "<table border=\"1\" class=\"dataframe\">\n",
       "  <thead>\n",
       "    <tr style=\"text-align: right;\">\n",
       "      <th></th>\n",
       "      <th>0</th>\n",
       "      <th>1</th>\n",
       "    </tr>\n",
       "  </thead>\n",
       "  <tbody>\n",
       "    <tr>\n",
       "      <th>0</th>\n",
       "      <td>1</td>\n",
       "      <td>(Dinosaur Planet, 2003)</td>\n",
       "    </tr>\n",
       "    <tr>\n",
       "      <th>1</th>\n",
       "      <td>2</td>\n",
       "      <td>(Isle of Man TT 2004 Review, 2004)</td>\n",
       "    </tr>\n",
       "    <tr>\n",
       "      <th>2</th>\n",
       "      <td>3</td>\n",
       "      <td>(Character, 1997)</td>\n",
       "    </tr>\n",
       "    <tr>\n",
       "      <th>3</th>\n",
       "      <td>4</td>\n",
       "      <td>(Paula Abdul's Get Up &amp; Dance, 1994)</td>\n",
       "    </tr>\n",
       "    <tr>\n",
       "      <th>4</th>\n",
       "      <td>5</td>\n",
       "      <td>(The Rise and Fall of ECW, 2004)</td>\n",
       "    </tr>\n",
       "  </tbody>\n",
       "</table>\n",
       "</div>"
      ],
      "text/plain": [
       "   0                                     1\n",
       "0  1               (Dinosaur Planet, 2003)\n",
       "1  2    (Isle of Man TT 2004 Review, 2004)\n",
       "2  3                     (Character, 1997)\n",
       "3  4  (Paula Abdul's Get Up & Dance, 1994)\n",
       "4  5      (The Rise and Fall of ECW, 2004)"
      ]
     },
     "execution_count": 5,
     "metadata": {},
     "output_type": "execute_result"
    }
   ],
   "source": [
    "base_de_dados_01.head()"
   ]
  },
  {
   "cell_type": "markdown",
   "id": "97dfd455",
   "metadata": {},
   "source": [
    "* Devido os titulos das colunas estarem sem o nome dos título, O nome dos títulos das colunas será inserido os titulos por meio da função .columns do pandas;"
   ]
  },
  {
   "cell_type": "code",
   "execution_count": 6,
   "id": "aa9dc4ba",
   "metadata": {},
   "outputs": [],
   "source": [
    "base_de_dados_01.columns = [\"ID\",\"Filme e Ano\"]"
   ]
  },
  {
   "cell_type": "code",
   "execution_count": 7,
   "id": "1ade0039",
   "metadata": {},
   "outputs": [
    {
     "data": {
      "text/html": [
       "<div>\n",
       "<style scoped>\n",
       "    .dataframe tbody tr th:only-of-type {\n",
       "        vertical-align: middle;\n",
       "    }\n",
       "\n",
       "    .dataframe tbody tr th {\n",
       "        vertical-align: top;\n",
       "    }\n",
       "\n",
       "    .dataframe thead th {\n",
       "        text-align: right;\n",
       "    }\n",
       "</style>\n",
       "<table border=\"1\" class=\"dataframe\">\n",
       "  <thead>\n",
       "    <tr style=\"text-align: right;\">\n",
       "      <th></th>\n",
       "      <th>ID</th>\n",
       "      <th>Filme e Ano</th>\n",
       "    </tr>\n",
       "  </thead>\n",
       "  <tbody>\n",
       "    <tr>\n",
       "      <th>0</th>\n",
       "      <td>1</td>\n",
       "      <td>(Dinosaur Planet, 2003)</td>\n",
       "    </tr>\n",
       "    <tr>\n",
       "      <th>1</th>\n",
       "      <td>2</td>\n",
       "      <td>(Isle of Man TT 2004 Review, 2004)</td>\n",
       "    </tr>\n",
       "    <tr>\n",
       "      <th>2</th>\n",
       "      <td>3</td>\n",
       "      <td>(Character, 1997)</td>\n",
       "    </tr>\n",
       "    <tr>\n",
       "      <th>3</th>\n",
       "      <td>4</td>\n",
       "      <td>(Paula Abdul's Get Up &amp; Dance, 1994)</td>\n",
       "    </tr>\n",
       "    <tr>\n",
       "      <th>4</th>\n",
       "      <td>5</td>\n",
       "      <td>(The Rise and Fall of ECW, 2004)</td>\n",
       "    </tr>\n",
       "  </tbody>\n",
       "</table>\n",
       "</div>"
      ],
      "text/plain": [
       "   ID                           Filme e Ano\n",
       "0   1               (Dinosaur Planet, 2003)\n",
       "1   2    (Isle of Man TT 2004 Review, 2004)\n",
       "2   3                     (Character, 1997)\n",
       "3   4  (Paula Abdul's Get Up & Dance, 1994)\n",
       "4   5      (The Rise and Fall of ECW, 2004)"
      ]
     },
     "execution_count": 7,
     "metadata": {},
     "output_type": "execute_result"
    }
   ],
   "source": [
    "base_de_dados_01.head()"
   ]
  },
  {
   "cell_type": "markdown",
   "id": "ec37d5a2",
   "metadata": {},
   "source": [
    "* Após a modificação dos títulos, será verificado o tamanho das linhas e colunas do conjunto de dados. Para isso irei usar a funcao .shape do pandas."
   ]
  },
  {
   "cell_type": "code",
   "execution_count": 8,
   "id": "60274c39",
   "metadata": {},
   "outputs": [
    {
     "data": {
      "text/plain": [
       "(4499, 2)"
      ]
     },
     "execution_count": 8,
     "metadata": {},
     "output_type": "execute_result"
    }
   ],
   "source": [
    "base_de_dados_01.shape"
   ]
  },
  {
   "cell_type": "markdown",
   "id": "126d5ac8",
   "metadata": {},
   "source": [
    "* Agora será análisado o tipo dos dados de cada coluna para saber se corresponde ao tipo de dado existente no conjunto de dados. Para isso farei uso da função .dtypes do do pandas. "
   ]
  },
  {
   "cell_type": "code",
   "execution_count": 9,
   "id": "169a5d08",
   "metadata": {},
   "outputs": [
    {
     "data": {
      "text/plain": [
       "ID              int64\n",
       "Filme e Ano    object\n",
       "dtype: object"
      ]
     },
     "execution_count": 9,
     "metadata": {},
     "output_type": "execute_result"
    }
   ],
   "source": [
    "base_de_dados_01.dtypes"
   ]
  },
  {
   "cell_type": "markdown",
   "id": "734ce0ce",
   "metadata": {},
   "source": [
    "* Agora irei verificar se existe algum valor faltante nas colunas do conjunto de dados"
   ]
  },
  {
   "cell_type": "code",
   "execution_count": 10,
   "id": "90e10518",
   "metadata": {},
   "outputs": [
    {
     "name": "stdout",
     "output_type": "stream",
     "text": [
      "ID             0\n",
      "Filme e Ano    0\n",
      "dtype: int64\n"
     ]
    }
   ],
   "source": [
    "print(base_de_dados_01.isnull().sum())"
   ]
  },
  {
   "cell_type": "markdown",
   "id": "6a90e2a9",
   "metadata": {},
   "source": [
    "* Agora irei verificar se existe valor duplicado, para isso irei usar a função .duplicated() e irei somar o total desses valores com a função .sum()"
   ]
  },
  {
   "cell_type": "code",
   "execution_count": 11,
   "id": "9a4dedb2",
   "metadata": {},
   "outputs": [
    {
     "data": {
      "text/plain": [
       "1"
      ]
     },
     "execution_count": 11,
     "metadata": {},
     "output_type": "execute_result"
    }
   ],
   "source": [
    "base_de_dados_01[\"Filme e Ano\"].duplicated().sum()"
   ]
  },
  {
   "cell_type": "markdown",
   "id": "f8984268",
   "metadata": {},
   "source": [
    "* Agora que sei que existe um valor duplicado no dataset, irei verificar qual é o dado duplicado através da função .value_counts() que me dá em ordem decrescente qual o valor duplciado."
   ]
  },
  {
   "cell_type": "code",
   "execution_count": 12,
   "id": "caea9013",
   "metadata": {},
   "outputs": [
    {
     "data": {
      "text/plain": [
       "(Dr. Quinn, 1993)                                           2\n",
       "(Dinosaur Planet, 2003)                                     1\n",
       "(Lucia Di Lammermoor: Donizetti: Australian Opera, 1986)    1\n",
       "(Escanaba in da Moonlight, 2000)                            1\n",
       "(The Three Stooges: Merry Mavericks, 1951)                  1\n",
       "                                                           ..\n",
       "(The Hunchback of Notre Dame, 1999)                         1\n",
       "(Hand Maid May, 2000)                                       1\n",
       "(National Lampoon's Van Wilder, 2002)                       1\n",
       "(Faith Hill: When the Lights Go Down, 2002)                 1\n",
       "(In My Skin, 2002)                                          1\n",
       "Name: Filme e Ano, Length: 4498, dtype: int64"
      ]
     },
     "execution_count": 12,
     "metadata": {},
     "output_type": "execute_result"
    }
   ],
   "source": [
    "base_de_dados_01[\"Filme e Ano\"].value_counts()"
   ]
  },
  {
   "cell_type": "markdown",
   "id": "a4b6da43",
   "metadata": {},
   "source": [
    "#### **Análise exploratória da base_de_dados_02**"
   ]
  },
  {
   "cell_type": "markdown",
   "id": "616b3dba",
   "metadata": {},
   "source": [
    "* Agora irei realizar os mesmos procedimentos feito para a base de dados 01 na base de dados 02."
   ]
  },
  {
   "cell_type": "code",
   "execution_count": 13,
   "id": "eb64929c",
   "metadata": {},
   "outputs": [
    {
     "data": {
      "text/html": [
       "<div>\n",
       "<style scoped>\n",
       "    .dataframe tbody tr th:only-of-type {\n",
       "        vertical-align: middle;\n",
       "    }\n",
       "\n",
       "    .dataframe tbody tr th {\n",
       "        vertical-align: top;\n",
       "    }\n",
       "\n",
       "    .dataframe thead th {\n",
       "        text-align: right;\n",
       "    }\n",
       "</style>\n",
       "<table border=\"1\" class=\"dataframe\">\n",
       "  <thead>\n",
       "    <tr style=\"text-align: right;\">\n",
       "      <th></th>\n",
       "      <th>Cust_Id</th>\n",
       "      <th>Rating</th>\n",
       "      <th>Date</th>\n",
       "      <th>Movie_Id</th>\n",
       "    </tr>\n",
       "  </thead>\n",
       "  <tbody>\n",
       "    <tr>\n",
       "      <th>0</th>\n",
       "      <td>1488844</td>\n",
       "      <td>3.0</td>\n",
       "      <td>2005-09-06</td>\n",
       "      <td>1</td>\n",
       "    </tr>\n",
       "    <tr>\n",
       "      <th>1</th>\n",
       "      <td>822109</td>\n",
       "      <td>5.0</td>\n",
       "      <td>2005-05-13</td>\n",
       "      <td>1</td>\n",
       "    </tr>\n",
       "    <tr>\n",
       "      <th>2</th>\n",
       "      <td>885013</td>\n",
       "      <td>4.0</td>\n",
       "      <td>2005-10-19</td>\n",
       "      <td>1</td>\n",
       "    </tr>\n",
       "    <tr>\n",
       "      <th>3</th>\n",
       "      <td>30878</td>\n",
       "      <td>4.0</td>\n",
       "      <td>2005-12-26</td>\n",
       "      <td>1</td>\n",
       "    </tr>\n",
       "    <tr>\n",
       "      <th>4</th>\n",
       "      <td>823519</td>\n",
       "      <td>3.0</td>\n",
       "      <td>2004-05-03</td>\n",
       "      <td>1</td>\n",
       "    </tr>\n",
       "  </tbody>\n",
       "</table>\n",
       "</div>"
      ],
      "text/plain": [
       "   Cust_Id  Rating        Date  Movie_Id\n",
       "0  1488844     3.0  2005-09-06         1\n",
       "1   822109     5.0  2005-05-13         1\n",
       "2   885013     4.0  2005-10-19         1\n",
       "3    30878     4.0  2005-12-26         1\n",
       "4   823519     3.0  2004-05-03         1"
      ]
     },
     "execution_count": 13,
     "metadata": {},
     "output_type": "execute_result"
    }
   ],
   "source": [
    "base_de_dados_02.head()"
   ]
  },
  {
   "cell_type": "code",
   "execution_count": 14,
   "id": "b08c33f5",
   "metadata": {},
   "outputs": [
    {
     "data": {
      "text/plain": [
       "(24053764, 4)"
      ]
     },
     "execution_count": 14,
     "metadata": {},
     "output_type": "execute_result"
    }
   ],
   "source": [
    "base_de_dados_02.shape"
   ]
  },
  {
   "cell_type": "code",
   "execution_count": 15,
   "id": "318e72f6",
   "metadata": {},
   "outputs": [
    {
     "data": {
      "text/plain": [
       "Cust_Id       int64\n",
       "Rating      float64\n",
       "Date         object\n",
       "Movie_Id      int64\n",
       "dtype: object"
      ]
     },
     "execution_count": 15,
     "metadata": {},
     "output_type": "execute_result"
    }
   ],
   "source": [
    "base_de_dados_02.dtypes"
   ]
  },
  {
   "cell_type": "code",
   "execution_count": 16,
   "id": "a844bb80",
   "metadata": {},
   "outputs": [
    {
     "data": {
      "text/plain": [
       "Cust_Id     0\n",
       "Rating      0\n",
       "Date        0\n",
       "Movie_Id    0\n",
       "dtype: int64"
      ]
     },
     "execution_count": 16,
     "metadata": {},
     "output_type": "execute_result"
    }
   ],
   "source": [
    "base_de_dados_02.isnull().sum()"
   ]
  },
  {
   "cell_type": "markdown",
   "id": "b22634b1",
   "metadata": {},
   "source": [
    "* Como nesse conjunto de dados sei que tem a necessidade de existir valores iguais em todas as colunas, não irei verificar se existe algum valor duplcado."
   ]
  },
  {
   "cell_type": "markdown",
   "id": "423e6dc7",
   "metadata": {},
   "source": [
    "### (1) Quantos filmes estão disponíveis no dataset?"
   ]
  },
  {
   "cell_type": "markdown",
   "id": "56508b4b",
   "metadata": {},
   "source": [
    "* Para responder essa questão vou fazer uso da função .nunique() do pandas e atribuir o resultado a uma nova variável, essa função retorna a quantidade de valores únicos em um dataframe ou série de um conjunto de dados, ou seja, se houver algum dado igual não será contabilizado. Logo;"
   ]
  },
  {
   "cell_type": "code",
   "execution_count": 17,
   "id": "42cb34f5",
   "metadata": {},
   "outputs": [],
   "source": [
    "total_filmes = base_de_dados_01[\"Filme e Ano\"].nunique()"
   ]
  },
  {
   "cell_type": "code",
   "execution_count": 18,
   "id": "21f33280",
   "metadata": {},
   "outputs": [
    {
     "data": {
      "text/plain": [
       "4498"
      ]
     },
     "execution_count": 18,
     "metadata": {},
     "output_type": "execute_result"
    }
   ],
   "source": [
    "total_filmes"
   ]
  },
  {
   "cell_type": "code",
   "execution_count": 19,
   "id": "55444731",
   "metadata": {},
   "outputs": [
    {
     "data": {
      "text/plain": [
       "(4499, 2)"
      ]
     },
     "execution_count": 19,
     "metadata": {},
     "output_type": "execute_result"
    }
   ],
   "source": [
    "base_de_dados_01.shape"
   ]
  },
  {
   "cell_type": "markdown",
   "id": "dcea117d",
   "metadata": {},
   "source": [
    "* Já tinha encontrado um valor duplicado na base de dados 01, como existe um valor duplicado que é o do filme (Dr. Quinn, 1993), só deve ser contabilizado 1, o valor total foi comprovado através da função .nunique(). Sendo assim:"
   ]
  },
  {
   "cell_type": "code",
   "execution_count": 20,
   "id": "bdf59f14",
   "metadata": {},
   "outputs": [
    {
     "name": "stdout",
     "output_type": "stream",
     "text": [
      "O número total de filmes disponíveis no dataset é:  4498\n"
     ]
    }
   ],
   "source": [
    "print(\"O número total de filmes disponíveis no dataset é: \", total_filmes)"
   ]
  },
  {
   "cell_type": "markdown",
   "id": "c3c4d15e",
   "metadata": {},
   "source": [
    "### (2) Qual é o nome dos 5 filmes com melhor média de avaliação?"
   ]
  },
  {
   "cell_type": "markdown",
   "id": "b7c66bee",
   "metadata": {},
   "source": [
    "* Para responder essa questão vou criar um novo Dataset aonde vou atribuir a ele apenas os dados de avaliação (Rating) e Id do filme (Movie_Id), pois é o que importa para responder essa questão. Além disso, farei uso da função .sort_values do pandas, que tem como objetivo ordenar os dados do dataset, ficando da seguinte forma;"
   ]
  },
  {
   "cell_type": "code",
   "execution_count": 21,
   "id": "43a19267",
   "metadata": {},
   "outputs": [],
   "source": [
    "media_filmes = base_de_dados_02.sort_values(by = [\"Rating\", \"Movie_Id\"])"
   ]
  },
  {
   "cell_type": "markdown",
   "id": "235222e1",
   "metadata": {},
   "source": [
    "* Com o novo dataset criado irei obter a média de avaliação de cada filme com a função .groupby e em seguida irei ordenar esse conjunto de dados com a função .sort_values(), obtendo o resultado em ordem crescente."
   ]
  },
  {
   "cell_type": "code",
   "execution_count": 22,
   "id": "a91552c3",
   "metadata": {},
   "outputs": [],
   "source": [
    "media_total_filmes = media_filmes.groupby(\"Movie_Id\")[\"Rating\"].mean()"
   ]
  },
  {
   "cell_type": "code",
   "execution_count": 23,
   "id": "007a58e6",
   "metadata": {},
   "outputs": [],
   "source": [
    "media_total_filmes = media_total_filmes.sort_values()"
   ]
  },
  {
   "cell_type": "code",
   "execution_count": 24,
   "id": "447af0d5",
   "metadata": {},
   "outputs": [
    {
     "data": {
      "text/plain": [
       "Movie_Id\n",
       "515     1.287879\n",
       "3575    1.400000\n",
       "2426    1.452381\n",
       "4202    1.487395\n",
       "1227    1.496241\n",
       "          ...   \n",
       "13      4.552000\n",
       "4238    4.554434\n",
       "2102    4.581296\n",
       "3033    4.586364\n",
       "3456    4.670989\n",
       "Name: Rating, Length: 4499, dtype: float64"
      ]
     },
     "execution_count": 24,
     "metadata": {},
     "output_type": "execute_result"
    }
   ],
   "source": [
    "media_total_filmes"
   ]
  },
  {
   "cell_type": "markdown",
   "id": "5dc0790e",
   "metadata": {},
   "source": [
    "* Agora que já foi dados os Ids com as maiores pontuações, basta verificar quais são na base_de_dados_01 para saber quais são os filmes melhores avaliados, para isso irei fazer uso da função iloc[] que tem como objetivo obter o valor de uma linha especifica através do índice dessa linha. Logo;"
   ]
  },
  {
   "cell_type": "code",
   "execution_count": 25,
   "id": "d68a0800",
   "metadata": {},
   "outputs": [],
   "source": [
    "media_primeiro = base_de_dados_01.iloc[3456][\"Filme e Ano\"]"
   ]
  },
  {
   "cell_type": "code",
   "execution_count": 26,
   "id": "af54e860",
   "metadata": {},
   "outputs": [],
   "source": [
    "media_segundo = base_de_dados_01.iloc[3033][\"Filme e Ano\"]"
   ]
  },
  {
   "cell_type": "code",
   "execution_count": 27,
   "id": "d9539f29",
   "metadata": {},
   "outputs": [],
   "source": [
    "media_terceiro = base_de_dados_01.iloc[2102][\"Filme e Ano\"]"
   ]
  },
  {
   "cell_type": "code",
   "execution_count": 28,
   "id": "29b42ecc",
   "metadata": {},
   "outputs": [],
   "source": [
    "media_quarto = base_de_dados_01.iloc[4238][\"Filme e Ano\"]"
   ]
  },
  {
   "cell_type": "code",
   "execution_count": 29,
   "id": "a9249dbc",
   "metadata": {},
   "outputs": [],
   "source": [
    "media_quinto = base_de_dados_01.iloc[13][\"Filme e Ano\"]"
   ]
  },
  {
   "cell_type": "code",
   "execution_count": 30,
   "id": "41bd1603",
   "metadata": {},
   "outputs": [
    {
     "name": "stdout",
     "output_type": "stream",
     "text": [
      "Os cinco filmes melhores avaliados são: \n",
      " primeiro: (Slapstick Symposium: The Harold Lloyd Collection, 1920), \n",
      " Segundo: (The Partridge Family: Season 1, 1970), \n",
      " Terceiro: (Sunshine, 1999),\n",
      " Quarto: (Maitresse, 1973), \n",
      " Quinto: (Nature: Antarctica, 1982).\n"
     ]
    }
   ],
   "source": [
    "print(\"Os cinco filmes melhores avaliados são: \\n primeiro: {}, \\n Segundo: {}, \\n Terceiro: {},\\n Quarto: {}, \\n Quinto: {}.\".format(media_primeiro,media_segundo,media_terceiro,media_quarto,media_quinto))"
   ]
  },
  {
   "cell_type": "markdown",
   "id": "36d724ce",
   "metadata": {},
   "source": [
    "### (3) Quais os 5 anos com menos lançamentos de filmes?"
   ]
  },
  {
   "cell_type": "markdown",
   "id": "1a2bb9f3",
   "metadata": {},
   "source": [
    "* Inicialmente para obter apenas a data de lançamento de cada filme será criado um novo dataset com base na base 01 para obter separadamente a data de lançamento de cada filme, para isso irei fazer o seguinte;"
   ]
  },
  {
   "cell_type": "code",
   "execution_count": 31,
   "id": "c43a79f1",
   "metadata": {},
   "outputs": [],
   "source": [
    "base_dados_data = pd.read_csv(\"movies.csv\", sep = \",\", header = None)"
   ]
  },
  {
   "cell_type": "code",
   "execution_count": 32,
   "id": "25484d37",
   "metadata": {},
   "outputs": [
    {
     "data": {
      "text/html": [
       "<div>\n",
       "<style scoped>\n",
       "    .dataframe tbody tr th:only-of-type {\n",
       "        vertical-align: middle;\n",
       "    }\n",
       "\n",
       "    .dataframe tbody tr th {\n",
       "        vertical-align: top;\n",
       "    }\n",
       "\n",
       "    .dataframe thead th {\n",
       "        text-align: right;\n",
       "    }\n",
       "</style>\n",
       "<table border=\"1\" class=\"dataframe\">\n",
       "  <thead>\n",
       "    <tr style=\"text-align: right;\">\n",
       "      <th></th>\n",
       "      <th>0</th>\n",
       "      <th>1</th>\n",
       "    </tr>\n",
       "  </thead>\n",
       "  <tbody>\n",
       "    <tr>\n",
       "      <th>0</th>\n",
       "      <td>1;(Dinosaur Planet</td>\n",
       "      <td>2003)</td>\n",
       "    </tr>\n",
       "    <tr>\n",
       "      <th>1</th>\n",
       "      <td>2;(Isle of Man TT 2004 Review</td>\n",
       "      <td>2004)</td>\n",
       "    </tr>\n",
       "    <tr>\n",
       "      <th>2</th>\n",
       "      <td>3;(Character</td>\n",
       "      <td>1997)</td>\n",
       "    </tr>\n",
       "    <tr>\n",
       "      <th>3</th>\n",
       "      <td>4;(Paula Abdul's Get Up &amp; Dance</td>\n",
       "      <td>1994)</td>\n",
       "    </tr>\n",
       "    <tr>\n",
       "      <th>4</th>\n",
       "      <td>5;(The Rise and Fall of ECW</td>\n",
       "      <td>2004)</td>\n",
       "    </tr>\n",
       "  </tbody>\n",
       "</table>\n",
       "</div>"
      ],
      "text/plain": [
       "                                 0       1\n",
       "0               1;(Dinosaur Planet   2003)\n",
       "1    2;(Isle of Man TT 2004 Review   2004)\n",
       "2                     3;(Character   1997)\n",
       "3  4;(Paula Abdul's Get Up & Dance   1994)\n",
       "4      5;(The Rise and Fall of ECW   2004)"
      ]
     },
     "execution_count": 32,
     "metadata": {},
     "output_type": "execute_result"
    }
   ],
   "source": [
    "base_dados_data.head()"
   ]
  },
  {
   "cell_type": "code",
   "execution_count": 33,
   "id": "a255effe",
   "metadata": {},
   "outputs": [],
   "source": [
    "base_dados_data.columns = [\"Filme\", \"Ano de Lançamento\"]"
   ]
  },
  {
   "cell_type": "code",
   "execution_count": 34,
   "id": "b26481f9",
   "metadata": {},
   "outputs": [
    {
     "data": {
      "text/html": [
       "<div>\n",
       "<style scoped>\n",
       "    .dataframe tbody tr th:only-of-type {\n",
       "        vertical-align: middle;\n",
       "    }\n",
       "\n",
       "    .dataframe tbody tr th {\n",
       "        vertical-align: top;\n",
       "    }\n",
       "\n",
       "    .dataframe thead th {\n",
       "        text-align: right;\n",
       "    }\n",
       "</style>\n",
       "<table border=\"1\" class=\"dataframe\">\n",
       "  <thead>\n",
       "    <tr style=\"text-align: right;\">\n",
       "      <th></th>\n",
       "      <th>Filme</th>\n",
       "      <th>Ano de Lançamento</th>\n",
       "    </tr>\n",
       "  </thead>\n",
       "  <tbody>\n",
       "    <tr>\n",
       "      <th>0</th>\n",
       "      <td>1;(Dinosaur Planet</td>\n",
       "      <td>2003)</td>\n",
       "    </tr>\n",
       "    <tr>\n",
       "      <th>1</th>\n",
       "      <td>2;(Isle of Man TT 2004 Review</td>\n",
       "      <td>2004)</td>\n",
       "    </tr>\n",
       "    <tr>\n",
       "      <th>2</th>\n",
       "      <td>3;(Character</td>\n",
       "      <td>1997)</td>\n",
       "    </tr>\n",
       "    <tr>\n",
       "      <th>3</th>\n",
       "      <td>4;(Paula Abdul's Get Up &amp; Dance</td>\n",
       "      <td>1994)</td>\n",
       "    </tr>\n",
       "    <tr>\n",
       "      <th>4</th>\n",
       "      <td>5;(The Rise and Fall of ECW</td>\n",
       "      <td>2004)</td>\n",
       "    </tr>\n",
       "  </tbody>\n",
       "</table>\n",
       "</div>"
      ],
      "text/plain": [
       "                             Filme Ano de Lançamento\n",
       "0               1;(Dinosaur Planet             2003)\n",
       "1    2;(Isle of Man TT 2004 Review             2004)\n",
       "2                     3;(Character             1997)\n",
       "3  4;(Paula Abdul's Get Up & Dance             1994)\n",
       "4      5;(The Rise and Fall of ECW             2004)"
      ]
     },
     "execution_count": 34,
     "metadata": {},
     "output_type": "execute_result"
    }
   ],
   "source": [
    "base_dados_data.head()"
   ]
  },
  {
   "cell_type": "markdown",
   "id": "7894b237",
   "metadata": {},
   "source": [
    "* Após obter o ano de lançamento do filme em uma coluna separada, irei retirar o caracter \")\" dos dados da coluna Ano de lançamento, para isso farei uso da função .str.replace() que tem como objetivo retirar ou substituir um caracter específico de uma coluna, sendo assim;"
   ]
  },
  {
   "cell_type": "code",
   "execution_count": 35,
   "id": "fc875173",
   "metadata": {},
   "outputs": [
    {
     "name": "stderr",
     "output_type": "stream",
     "text": [
      "/tmp/ipykernel_15215/517218806.py:1: FutureWarning: The default value of regex will change from True to False in a future version. In addition, single character regular expressions will *not* be treated as literal strings when regex=True.\n",
      "  base_dados_data[\"Ano de Lançamento\"] = base_dados_data[\"Ano de Lançamento\"].str.replace(\")\",\"\")\n"
     ]
    }
   ],
   "source": [
    "base_dados_data[\"Ano de Lançamento\"] = base_dados_data[\"Ano de Lançamento\"].str.replace(\")\",\"\")"
   ]
  },
  {
   "cell_type": "code",
   "execution_count": 36,
   "id": "f6016884",
   "metadata": {},
   "outputs": [
    {
     "data": {
      "text/html": [
       "<div>\n",
       "<style scoped>\n",
       "    .dataframe tbody tr th:only-of-type {\n",
       "        vertical-align: middle;\n",
       "    }\n",
       "\n",
       "    .dataframe tbody tr th {\n",
       "        vertical-align: top;\n",
       "    }\n",
       "\n",
       "    .dataframe thead th {\n",
       "        text-align: right;\n",
       "    }\n",
       "</style>\n",
       "<table border=\"1\" class=\"dataframe\">\n",
       "  <thead>\n",
       "    <tr style=\"text-align: right;\">\n",
       "      <th></th>\n",
       "      <th>Filme</th>\n",
       "      <th>Ano de Lançamento</th>\n",
       "    </tr>\n",
       "  </thead>\n",
       "  <tbody>\n",
       "    <tr>\n",
       "      <th>0</th>\n",
       "      <td>1;(Dinosaur Planet</td>\n",
       "      <td>2003</td>\n",
       "    </tr>\n",
       "    <tr>\n",
       "      <th>1</th>\n",
       "      <td>2;(Isle of Man TT 2004 Review</td>\n",
       "      <td>2004</td>\n",
       "    </tr>\n",
       "    <tr>\n",
       "      <th>2</th>\n",
       "      <td>3;(Character</td>\n",
       "      <td>1997</td>\n",
       "    </tr>\n",
       "    <tr>\n",
       "      <th>3</th>\n",
       "      <td>4;(Paula Abdul's Get Up &amp; Dance</td>\n",
       "      <td>1994</td>\n",
       "    </tr>\n",
       "    <tr>\n",
       "      <th>4</th>\n",
       "      <td>5;(The Rise and Fall of ECW</td>\n",
       "      <td>2004</td>\n",
       "    </tr>\n",
       "  </tbody>\n",
       "</table>\n",
       "</div>"
      ],
      "text/plain": [
       "                             Filme Ano de Lançamento\n",
       "0               1;(Dinosaur Planet              2003\n",
       "1    2;(Isle of Man TT 2004 Review              2004\n",
       "2                     3;(Character              1997\n",
       "3  4;(Paula Abdul's Get Up & Dance              1994\n",
       "4      5;(The Rise and Fall of ECW              2004"
      ]
     },
     "execution_count": 36,
     "metadata": {},
     "output_type": "execute_result"
    }
   ],
   "source": [
    "base_dados_data.head()"
   ]
  },
  {
   "cell_type": "markdown",
   "id": "ea8cd132",
   "metadata": {},
   "source": [
    "* Agora será verificado inicialmente o tipo de dados de cada coluna para saber se está com tipo de dado adequado, fazendo uso da função .dtypes, logo;"
   ]
  },
  {
   "cell_type": "code",
   "execution_count": 37,
   "id": "e435c6a3",
   "metadata": {},
   "outputs": [
    {
     "data": {
      "text/plain": [
       "Filme                object\n",
       "Ano de Lançamento    object\n",
       "dtype: object"
      ]
     },
     "execution_count": 37,
     "metadata": {},
     "output_type": "execute_result"
    }
   ],
   "source": [
    "base_dados_data.dtypes"
   ]
  },
  {
   "cell_type": "markdown",
   "id": "db2e826a",
   "metadata": {},
   "source": [
    "* Após verificar o tipo de dados de cada coluna do dataset, percebi que a coluna Ano de Lançamento está no tipo object. Irei fazer a converção para o tipo int com a função .astype do numpy, ficando assim; "
   ]
  },
  {
   "cell_type": "code",
   "execution_count": 38,
   "id": "24bdb7d7",
   "metadata": {},
   "outputs": [],
   "source": [
    "base_dados_data[\"Ano de Lançamento\"] = base_dados_data[\"Ano de Lançamento\"].astype(np.int,copy = False)"
   ]
  },
  {
   "cell_type": "code",
   "execution_count": 39,
   "id": "946554a2",
   "metadata": {},
   "outputs": [
    {
     "data": {
      "text/plain": [
       "Filme                object\n",
       "Ano de Lançamento     int64\n",
       "dtype: object"
      ]
     },
     "execution_count": 39,
     "metadata": {},
     "output_type": "execute_result"
    }
   ],
   "source": [
    "base_dados_data.dtypes"
   ]
  },
  {
   "cell_type": "markdown",
   "id": "0b06c1ba",
   "metadata": {},
   "source": [
    "* Após modificar o tipo de dado para int, irei contabilizar o ano de lançamento colocando em ordem decrescente, assim saberei quais os anos que tiveram menos lançamento de filmes"
   ]
  },
  {
   "cell_type": "code",
   "execution_count": 40,
   "id": "87d25de5",
   "metadata": {},
   "outputs": [],
   "source": [
    "base_dados_data = base_dados_data.sort_values(by = [\"Filme\", \"Ano de Lançamento\"])"
   ]
  },
  {
   "cell_type": "code",
   "execution_count": 41,
   "id": "9554ffa7",
   "metadata": {},
   "outputs": [
    {
     "data": {
      "text/plain": [
       "1918    2\n",
       "1915    1\n",
       "1926    1\n",
       "1922    1\n",
       "1917    1\n",
       "Name: Ano de Lançamento, dtype: int64"
      ]
     },
     "execution_count": 41,
     "metadata": {},
     "output_type": "execute_result"
    }
   ],
   "source": [
    "base_dados_data[\"Ano de Lançamento\"].value_counts().tail()"
   ]
  },
  {
   "cell_type": "markdown",
   "id": "7f21649f",
   "metadata": {},
   "source": [
    "* Após ter colocando em ordem com a função .sort_values e ter contabilizado a quantidade de filmes por ano com a função .value_counts(), Sei quais os anos com menos filmes lançados, sendo estes: "
   ]
  },
  {
   "cell_type": "code",
   "execution_count": 42,
   "id": "bebca5c5",
   "metadata": {},
   "outputs": [
    {
     "name": "stdout",
     "output_type": "stream",
     "text": [
      "Os 5 anos com menos filmes lançando são: \n",
      " 1915 com 1 filme lançado, \n",
      " 1917 com 1 filme lançado, \n",
      " 1922 com 1 filme lançado, \n",
      " 1926 com 1 filme lançado, \n",
      " 1918 com 2 filmes laçandos. \n"
     ]
    }
   ],
   "source": [
    "print(\"Os 5 anos com menos filmes lançando são: \\n 1915 com 1 filme lançado, \\n 1917 com 1 filme lançado, \\n 1922 com 1 filme lançado, \\n 1926 com 1 filme lançado, \\n 1918 com 2 filmes laçandos. \")"
   ]
  },
  {
   "cell_type": "markdown",
   "id": "aded5924",
   "metadata": {},
   "source": [
    "### (4) Quantos filmes que possuem avaliação maior ou igual a 4.7, considerando apenas os filmes avaliados na última data de avaliação do dataset?"
   ]
  },
  {
   "cell_type": "markdown",
   "id": "75fbd4ce",
   "metadata": {},
   "source": [
    "* Para responder a quarta questão reutilizarei o dataset criado na segunda questão"
   ]
  },
  {
   "cell_type": "code",
   "execution_count": 43,
   "id": "656aed24",
   "metadata": {},
   "outputs": [
    {
     "data": {
      "text/html": [
       "<div>\n",
       "<style scoped>\n",
       "    .dataframe tbody tr th:only-of-type {\n",
       "        vertical-align: middle;\n",
       "    }\n",
       "\n",
       "    .dataframe tbody tr th {\n",
       "        vertical-align: top;\n",
       "    }\n",
       "\n",
       "    .dataframe thead th {\n",
       "        text-align: right;\n",
       "    }\n",
       "</style>\n",
       "<table border=\"1\" class=\"dataframe\">\n",
       "  <thead>\n",
       "    <tr style=\"text-align: right;\">\n",
       "      <th></th>\n",
       "      <th>Cust_Id</th>\n",
       "      <th>Rating</th>\n",
       "      <th>Date</th>\n",
       "      <th>Movie_Id</th>\n",
       "    </tr>\n",
       "  </thead>\n",
       "  <tbody>\n",
       "    <tr>\n",
       "      <th>0</th>\n",
       "      <td>1488844</td>\n",
       "      <td>3.0</td>\n",
       "      <td>2005-09-06</td>\n",
       "      <td>1</td>\n",
       "    </tr>\n",
       "    <tr>\n",
       "      <th>1</th>\n",
       "      <td>822109</td>\n",
       "      <td>5.0</td>\n",
       "      <td>2005-05-13</td>\n",
       "      <td>1</td>\n",
       "    </tr>\n",
       "    <tr>\n",
       "      <th>2</th>\n",
       "      <td>885013</td>\n",
       "      <td>4.0</td>\n",
       "      <td>2005-10-19</td>\n",
       "      <td>1</td>\n",
       "    </tr>\n",
       "    <tr>\n",
       "      <th>3</th>\n",
       "      <td>30878</td>\n",
       "      <td>4.0</td>\n",
       "      <td>2005-12-26</td>\n",
       "      <td>1</td>\n",
       "    </tr>\n",
       "    <tr>\n",
       "      <th>4</th>\n",
       "      <td>823519</td>\n",
       "      <td>3.0</td>\n",
       "      <td>2004-05-03</td>\n",
       "      <td>1</td>\n",
       "    </tr>\n",
       "  </tbody>\n",
       "</table>\n",
       "</div>"
      ],
      "text/plain": [
       "   Cust_Id  Rating        Date  Movie_Id\n",
       "0  1488844     3.0  2005-09-06         1\n",
       "1   822109     5.0  2005-05-13         1\n",
       "2   885013     4.0  2005-10-19         1\n",
       "3    30878     4.0  2005-12-26         1\n",
       "4   823519     3.0  2004-05-03         1"
      ]
     },
     "execution_count": 43,
     "metadata": {},
     "output_type": "execute_result"
    }
   ],
   "source": [
    "base_de_dados_02.head()"
   ]
  },
  {
   "cell_type": "markdown",
   "id": "5aa6237b",
   "metadata": {},
   "source": [
    "* Agora irei criar um novo dataset obtendo apenas as colunas que interessão e irei realizar a ordenação dessas colunas, sendo estas;"
   ]
  },
  {
   "cell_type": "code",
   "execution_count": 44,
   "id": "fcdd00b7",
   "metadata": {},
   "outputs": [],
   "source": [
    "media_avaliacao = base_de_dados_02[[\"Rating\",\"Date\",\"Movie_Id\"]]"
   ]
  },
  {
   "cell_type": "code",
   "execution_count": 45,
   "id": "f6442702",
   "metadata": {},
   "outputs": [
    {
     "data": {
      "text/html": [
       "<div>\n",
       "<style scoped>\n",
       "    .dataframe tbody tr th:only-of-type {\n",
       "        vertical-align: middle;\n",
       "    }\n",
       "\n",
       "    .dataframe tbody tr th {\n",
       "        vertical-align: top;\n",
       "    }\n",
       "\n",
       "    .dataframe thead th {\n",
       "        text-align: right;\n",
       "    }\n",
       "</style>\n",
       "<table border=\"1\" class=\"dataframe\">\n",
       "  <thead>\n",
       "    <tr style=\"text-align: right;\">\n",
       "      <th></th>\n",
       "      <th>Rating</th>\n",
       "      <th>Date</th>\n",
       "      <th>Movie_Id</th>\n",
       "    </tr>\n",
       "  </thead>\n",
       "  <tbody>\n",
       "    <tr>\n",
       "      <th>0</th>\n",
       "      <td>3.0</td>\n",
       "      <td>2005-09-06</td>\n",
       "      <td>1</td>\n",
       "    </tr>\n",
       "    <tr>\n",
       "      <th>1</th>\n",
       "      <td>5.0</td>\n",
       "      <td>2005-05-13</td>\n",
       "      <td>1</td>\n",
       "    </tr>\n",
       "    <tr>\n",
       "      <th>2</th>\n",
       "      <td>4.0</td>\n",
       "      <td>2005-10-19</td>\n",
       "      <td>1</td>\n",
       "    </tr>\n",
       "    <tr>\n",
       "      <th>3</th>\n",
       "      <td>4.0</td>\n",
       "      <td>2005-12-26</td>\n",
       "      <td>1</td>\n",
       "    </tr>\n",
       "    <tr>\n",
       "      <th>4</th>\n",
       "      <td>3.0</td>\n",
       "      <td>2004-05-03</td>\n",
       "      <td>1</td>\n",
       "    </tr>\n",
       "    <tr>\n",
       "      <th>...</th>\n",
       "      <td>...</td>\n",
       "      <td>...</td>\n",
       "      <td>...</td>\n",
       "    </tr>\n",
       "    <tr>\n",
       "      <th>24053759</th>\n",
       "      <td>2.0</td>\n",
       "      <td>2005-02-16</td>\n",
       "      <td>4499</td>\n",
       "    </tr>\n",
       "    <tr>\n",
       "      <th>24053760</th>\n",
       "      <td>2.0</td>\n",
       "      <td>2005-02-10</td>\n",
       "      <td>4499</td>\n",
       "    </tr>\n",
       "    <tr>\n",
       "      <th>24053761</th>\n",
       "      <td>5.0</td>\n",
       "      <td>2005-07-27</td>\n",
       "      <td>4499</td>\n",
       "    </tr>\n",
       "    <tr>\n",
       "      <th>24053762</th>\n",
       "      <td>3.0</td>\n",
       "      <td>2005-12-20</td>\n",
       "      <td>4499</td>\n",
       "    </tr>\n",
       "    <tr>\n",
       "      <th>24053763</th>\n",
       "      <td>3.0</td>\n",
       "      <td>2004-06-02</td>\n",
       "      <td>4499</td>\n",
       "    </tr>\n",
       "  </tbody>\n",
       "</table>\n",
       "<p>24053764 rows × 3 columns</p>\n",
       "</div>"
      ],
      "text/plain": [
       "          Rating        Date  Movie_Id\n",
       "0            3.0  2005-09-06         1\n",
       "1            5.0  2005-05-13         1\n",
       "2            4.0  2005-10-19         1\n",
       "3            4.0  2005-12-26         1\n",
       "4            3.0  2004-05-03         1\n",
       "...          ...         ...       ...\n",
       "24053759     2.0  2005-02-16      4499\n",
       "24053760     2.0  2005-02-10      4499\n",
       "24053761     5.0  2005-07-27      4499\n",
       "24053762     3.0  2005-12-20      4499\n",
       "24053763     3.0  2004-06-02      4499\n",
       "\n",
       "[24053764 rows x 3 columns]"
      ]
     },
     "execution_count": 45,
     "metadata": {},
     "output_type": "execute_result"
    }
   ],
   "source": [
    "media_avaliacao"
   ]
  },
  {
   "cell_type": "markdown",
   "id": "0ff3c0f0",
   "metadata": {},
   "source": [
    "* Agora irei ordenar os dados do dataset."
   ]
  },
  {
   "cell_type": "code",
   "execution_count": 46,
   "id": "cc88d082",
   "metadata": {},
   "outputs": [],
   "source": [
    "media_avaliacao = media_avaliacao.sort_values(by = [\"Rating\", \"Date\",\"Movie_Id\"])"
   ]
  },
  {
   "cell_type": "code",
   "execution_count": 47,
   "id": "5a3d1c8b",
   "metadata": {},
   "outputs": [
    {
     "data": {
      "text/html": [
       "<div>\n",
       "<style scoped>\n",
       "    .dataframe tbody tr th:only-of-type {\n",
       "        vertical-align: middle;\n",
       "    }\n",
       "\n",
       "    .dataframe tbody tr th {\n",
       "        vertical-align: top;\n",
       "    }\n",
       "\n",
       "    .dataframe thead th {\n",
       "        text-align: right;\n",
       "    }\n",
       "</style>\n",
       "<table border=\"1\" class=\"dataframe\">\n",
       "  <thead>\n",
       "    <tr style=\"text-align: right;\">\n",
       "      <th></th>\n",
       "      <th>Rating</th>\n",
       "      <th>Date</th>\n",
       "      <th>Movie_Id</th>\n",
       "    </tr>\n",
       "  </thead>\n",
       "  <tbody>\n",
       "    <tr>\n",
       "      <th>254722</th>\n",
       "      <td>1.0</td>\n",
       "      <td>1999-12-09</td>\n",
       "      <td>55</td>\n",
       "    </tr>\n",
       "    <tr>\n",
       "      <th>14342911</th>\n",
       "      <td>1.0</td>\n",
       "      <td>1999-12-09</td>\n",
       "      <td>2780</td>\n",
       "    </tr>\n",
       "    <tr>\n",
       "      <th>3529069</th>\n",
       "      <td>1.0</td>\n",
       "      <td>1999-12-16</td>\n",
       "      <td>674</td>\n",
       "    </tr>\n",
       "    <tr>\n",
       "      <th>16438032</th>\n",
       "      <td>1.0</td>\n",
       "      <td>1999-12-16</td>\n",
       "      <td>3168</td>\n",
       "    </tr>\n",
       "    <tr>\n",
       "      <th>21447378</th>\n",
       "      <td>1.0</td>\n",
       "      <td>1999-12-16</td>\n",
       "      <td>4031</td>\n",
       "    </tr>\n",
       "    <tr>\n",
       "      <th>...</th>\n",
       "      <td>...</td>\n",
       "      <td>...</td>\n",
       "      <td>...</td>\n",
       "    </tr>\n",
       "    <tr>\n",
       "      <th>24042806</th>\n",
       "      <td>5.0</td>\n",
       "      <td>2005-12-31</td>\n",
       "      <td>4495</td>\n",
       "    </tr>\n",
       "    <tr>\n",
       "      <th>24043825</th>\n",
       "      <td>5.0</td>\n",
       "      <td>2005-12-31</td>\n",
       "      <td>4496</td>\n",
       "    </tr>\n",
       "    <tr>\n",
       "      <th>24048123</th>\n",
       "      <td>5.0</td>\n",
       "      <td>2005-12-31</td>\n",
       "      <td>4496</td>\n",
       "    </tr>\n",
       "    <tr>\n",
       "      <th>24048514</th>\n",
       "      <td>5.0</td>\n",
       "      <td>2005-12-31</td>\n",
       "      <td>4496</td>\n",
       "    </tr>\n",
       "    <tr>\n",
       "      <th>24050311</th>\n",
       "      <td>5.0</td>\n",
       "      <td>2005-12-31</td>\n",
       "      <td>4496</td>\n",
       "    </tr>\n",
       "  </tbody>\n",
       "</table>\n",
       "<p>24053764 rows × 3 columns</p>\n",
       "</div>"
      ],
      "text/plain": [
       "          Rating        Date  Movie_Id\n",
       "254722       1.0  1999-12-09        55\n",
       "14342911     1.0  1999-12-09      2780\n",
       "3529069      1.0  1999-12-16       674\n",
       "16438032     1.0  1999-12-16      3168\n",
       "21447378     1.0  1999-12-16      4031\n",
       "...          ...         ...       ...\n",
       "24042806     5.0  2005-12-31      4495\n",
       "24043825     5.0  2005-12-31      4496\n",
       "24048123     5.0  2005-12-31      4496\n",
       "24048514     5.0  2005-12-31      4496\n",
       "24050311     5.0  2005-12-31      4496\n",
       "\n",
       "[24053764 rows x 3 columns]"
      ]
     },
     "execution_count": 47,
     "metadata": {},
     "output_type": "execute_result"
    }
   ],
   "source": [
    "media_avaliacao"
   ]
  },
  {
   "cell_type": "markdown",
   "id": "95f25809",
   "metadata": {},
   "source": [
    "* Para obter apenas os dados relevantes para responder a questão, será verificado qual a ultima data de avaliação e, em seguida, será filtrada apenas os valores referente a essa data."
   ]
  },
  {
   "cell_type": "code",
   "execution_count": 48,
   "id": "e3ebecd5",
   "metadata": {},
   "outputs": [],
   "source": [
    "media_avaliacao[\"Date\"] = pd.to_datetime(media_avaliacao[\"Date\"])"
   ]
  },
  {
   "cell_type": "code",
   "execution_count": 49,
   "id": "003925bd",
   "metadata": {},
   "outputs": [],
   "source": [
    "avaliacao_media = media_avaliacao.loc[(media_avaliacao[\"Date\"].dt.year == 2005)]"
   ]
  },
  {
   "cell_type": "code",
   "execution_count": 50,
   "id": "c74f448d",
   "metadata": {},
   "outputs": [],
   "source": [
    "avaliacao_media = avaliacao_media.loc[(avaliacao_media[\"Date\"].dt.month == 12)]"
   ]
  },
  {
   "cell_type": "code",
   "execution_count": 51,
   "id": "a2abdce6",
   "metadata": {},
   "outputs": [],
   "source": [
    "avaliacao_media = avaliacao_media.loc[avaliacao_media[\"Date\"].dt.day == 31]"
   ]
  },
  {
   "cell_type": "markdown",
   "id": "5acf3aad",
   "metadata": {},
   "source": [
    "* Agora que obtive os dados referente ao ultimo dia de avaliação do conjunto de dados irei verificar a media de avaliação através de um novo conjunto de dados."
   ]
  },
  {
   "cell_type": "code",
   "execution_count": 52,
   "id": "95de16d7",
   "metadata": {},
   "outputs": [],
   "source": [
    "quantidade_total = avaliacao_media.groupby(\"Movie_Id\")[\"Rating\"].mean().value_counts()"
   ]
  },
  {
   "cell_type": "code",
   "execution_count": 53,
   "id": "92a9c2a4",
   "metadata": {},
   "outputs": [
    {
     "data": {
      "text/plain": [
       "4.000000    314\n",
       "3.000000    279\n",
       "5.000000    183\n",
       "2.000000     80\n",
       "3.500000     58\n",
       "           ... \n",
       "3.875000      1\n",
       "3.627119      1\n",
       "4.210526      1\n",
       "3.658537      1\n",
       "3.729167      1\n",
       "Name: Rating, Length: 192, dtype: int64"
      ]
     },
     "execution_count": 53,
     "metadata": {},
     "output_type": "execute_result"
    }
   ],
   "source": [
    "quantidade_total "
   ]
  },
  {
   "cell_type": "markdown",
   "id": "66466fab",
   "metadata": {},
   "source": [
    "* Como o conjunto de dados que obtive foi uma Série e não um dataframe, irei realizar a conversão para um dataframe através da função .to_frame() do pandas. "
   ]
  },
  {
   "cell_type": "code",
   "execution_count": 54,
   "id": "e2e3f2a9",
   "metadata": {},
   "outputs": [],
   "source": [
    "quantidade_total = quantidade_total.to_frame(name = \"Quantidade de avaliações\")"
   ]
  },
  {
   "cell_type": "code",
   "execution_count": 55,
   "id": "7be924eb",
   "metadata": {},
   "outputs": [
    {
     "data": {
      "text/html": [
       "<div>\n",
       "<style scoped>\n",
       "    .dataframe tbody tr th:only-of-type {\n",
       "        vertical-align: middle;\n",
       "    }\n",
       "\n",
       "    .dataframe tbody tr th {\n",
       "        vertical-align: top;\n",
       "    }\n",
       "\n",
       "    .dataframe thead th {\n",
       "        text-align: right;\n",
       "    }\n",
       "</style>\n",
       "<table border=\"1\" class=\"dataframe\">\n",
       "  <thead>\n",
       "    <tr style=\"text-align: right;\">\n",
       "      <th></th>\n",
       "      <th>Quantidade de avaliações</th>\n",
       "    </tr>\n",
       "  </thead>\n",
       "  <tbody>\n",
       "    <tr>\n",
       "      <th>4.000000</th>\n",
       "      <td>314</td>\n",
       "    </tr>\n",
       "    <tr>\n",
       "      <th>3.000000</th>\n",
       "      <td>279</td>\n",
       "    </tr>\n",
       "    <tr>\n",
       "      <th>5.000000</th>\n",
       "      <td>183</td>\n",
       "    </tr>\n",
       "    <tr>\n",
       "      <th>2.000000</th>\n",
       "      <td>80</td>\n",
       "    </tr>\n",
       "    <tr>\n",
       "      <th>3.500000</th>\n",
       "      <td>58</td>\n",
       "    </tr>\n",
       "    <tr>\n",
       "      <th>...</th>\n",
       "      <td>...</td>\n",
       "    </tr>\n",
       "    <tr>\n",
       "      <th>3.875000</th>\n",
       "      <td>1</td>\n",
       "    </tr>\n",
       "    <tr>\n",
       "      <th>3.627119</th>\n",
       "      <td>1</td>\n",
       "    </tr>\n",
       "    <tr>\n",
       "      <th>4.210526</th>\n",
       "      <td>1</td>\n",
       "    </tr>\n",
       "    <tr>\n",
       "      <th>3.658537</th>\n",
       "      <td>1</td>\n",
       "    </tr>\n",
       "    <tr>\n",
       "      <th>3.729167</th>\n",
       "      <td>1</td>\n",
       "    </tr>\n",
       "  </tbody>\n",
       "</table>\n",
       "<p>192 rows × 1 columns</p>\n",
       "</div>"
      ],
      "text/plain": [
       "          Quantidade de avaliações\n",
       "4.000000                       314\n",
       "3.000000                       279\n",
       "5.000000                       183\n",
       "2.000000                        80\n",
       "3.500000                        58\n",
       "...                            ...\n",
       "3.875000                         1\n",
       "3.627119                         1\n",
       "4.210526                         1\n",
       "3.658537                         1\n",
       "3.729167                         1\n",
       "\n",
       "[192 rows x 1 columns]"
      ]
     },
     "execution_count": 55,
     "metadata": {},
     "output_type": "execute_result"
    }
   ],
   "source": [
    "quantidade_total"
   ]
  },
  {
   "cell_type": "markdown",
   "id": "5d3671b0",
   "metadata": {},
   "source": [
    "* Como uma das colunas se tornou índice na conversão para dataframe, irei transformar o índice em coluna com a função .reset_index()"
   ]
  },
  {
   "cell_type": "code",
   "execution_count": 56,
   "id": "4ae2a5cb",
   "metadata": {},
   "outputs": [],
   "source": [
    "quantidade_total = quantidade_total.reset_index()"
   ]
  },
  {
   "cell_type": "code",
   "execution_count": 57,
   "id": "2e1ba1f2",
   "metadata": {},
   "outputs": [
    {
     "data": {
      "text/html": [
       "<div>\n",
       "<style scoped>\n",
       "    .dataframe tbody tr th:only-of-type {\n",
       "        vertical-align: middle;\n",
       "    }\n",
       "\n",
       "    .dataframe tbody tr th {\n",
       "        vertical-align: top;\n",
       "    }\n",
       "\n",
       "    .dataframe thead th {\n",
       "        text-align: right;\n",
       "    }\n",
       "</style>\n",
       "<table border=\"1\" class=\"dataframe\">\n",
       "  <thead>\n",
       "    <tr style=\"text-align: right;\">\n",
       "      <th></th>\n",
       "      <th>index</th>\n",
       "      <th>Quantidade de avaliações</th>\n",
       "    </tr>\n",
       "  </thead>\n",
       "  <tbody>\n",
       "    <tr>\n",
       "      <th>0</th>\n",
       "      <td>4.000000</td>\n",
       "      <td>314</td>\n",
       "    </tr>\n",
       "    <tr>\n",
       "      <th>1</th>\n",
       "      <td>3.000000</td>\n",
       "      <td>279</td>\n",
       "    </tr>\n",
       "    <tr>\n",
       "      <th>2</th>\n",
       "      <td>5.000000</td>\n",
       "      <td>183</td>\n",
       "    </tr>\n",
       "    <tr>\n",
       "      <th>3</th>\n",
       "      <td>2.000000</td>\n",
       "      <td>80</td>\n",
       "    </tr>\n",
       "    <tr>\n",
       "      <th>4</th>\n",
       "      <td>3.500000</td>\n",
       "      <td>58</td>\n",
       "    </tr>\n",
       "    <tr>\n",
       "      <th>...</th>\n",
       "      <td>...</td>\n",
       "      <td>...</td>\n",
       "    </tr>\n",
       "    <tr>\n",
       "      <th>187</th>\n",
       "      <td>3.875000</td>\n",
       "      <td>1</td>\n",
       "    </tr>\n",
       "    <tr>\n",
       "      <th>188</th>\n",
       "      <td>3.627119</td>\n",
       "      <td>1</td>\n",
       "    </tr>\n",
       "    <tr>\n",
       "      <th>189</th>\n",
       "      <td>4.210526</td>\n",
       "      <td>1</td>\n",
       "    </tr>\n",
       "    <tr>\n",
       "      <th>190</th>\n",
       "      <td>3.658537</td>\n",
       "      <td>1</td>\n",
       "    </tr>\n",
       "    <tr>\n",
       "      <th>191</th>\n",
       "      <td>3.729167</td>\n",
       "      <td>1</td>\n",
       "    </tr>\n",
       "  </tbody>\n",
       "</table>\n",
       "<p>192 rows × 2 columns</p>\n",
       "</div>"
      ],
      "text/plain": [
       "        index  Quantidade de avaliações\n",
       "0    4.000000                       314\n",
       "1    3.000000                       279\n",
       "2    5.000000                       183\n",
       "3    2.000000                        80\n",
       "4    3.500000                        58\n",
       "..        ...                       ...\n",
       "187  3.875000                         1\n",
       "188  3.627119                         1\n",
       "189  4.210526                         1\n",
       "190  3.658537                         1\n",
       "191  3.729167                         1\n",
       "\n",
       "[192 rows x 2 columns]"
      ]
     },
     "execution_count": 57,
     "metadata": {},
     "output_type": "execute_result"
    }
   ],
   "source": [
    "quantidade_total"
   ]
  },
  {
   "cell_type": "markdown",
   "id": "8a741e11",
   "metadata": {},
   "source": [
    "* Agora irei atribuir os nomes adequados as colunas do conjunto de dados."
   ]
  },
  {
   "cell_type": "code",
   "execution_count": 58,
   "id": "ad6d979e",
   "metadata": {},
   "outputs": [],
   "source": [
    "quantidade_total.columns = [\"Nota da Avaliação\",\"Quantidade de avaliações\"]"
   ]
  },
  {
   "cell_type": "code",
   "execution_count": 59,
   "id": "bdcdd08e",
   "metadata": {},
   "outputs": [
    {
     "data": {
      "text/html": [
       "<div>\n",
       "<style scoped>\n",
       "    .dataframe tbody tr th:only-of-type {\n",
       "        vertical-align: middle;\n",
       "    }\n",
       "\n",
       "    .dataframe tbody tr th {\n",
       "        vertical-align: top;\n",
       "    }\n",
       "\n",
       "    .dataframe thead th {\n",
       "        text-align: right;\n",
       "    }\n",
       "</style>\n",
       "<table border=\"1\" class=\"dataframe\">\n",
       "  <thead>\n",
       "    <tr style=\"text-align: right;\">\n",
       "      <th></th>\n",
       "      <th>Nota da Avaliação</th>\n",
       "      <th>Quantidade de avaliações</th>\n",
       "    </tr>\n",
       "  </thead>\n",
       "  <tbody>\n",
       "    <tr>\n",
       "      <th>0</th>\n",
       "      <td>4.000000</td>\n",
       "      <td>314</td>\n",
       "    </tr>\n",
       "    <tr>\n",
       "      <th>1</th>\n",
       "      <td>3.000000</td>\n",
       "      <td>279</td>\n",
       "    </tr>\n",
       "    <tr>\n",
       "      <th>2</th>\n",
       "      <td>5.000000</td>\n",
       "      <td>183</td>\n",
       "    </tr>\n",
       "    <tr>\n",
       "      <th>3</th>\n",
       "      <td>2.000000</td>\n",
       "      <td>80</td>\n",
       "    </tr>\n",
       "    <tr>\n",
       "      <th>4</th>\n",
       "      <td>3.500000</td>\n",
       "      <td>58</td>\n",
       "    </tr>\n",
       "    <tr>\n",
       "      <th>...</th>\n",
       "      <td>...</td>\n",
       "      <td>...</td>\n",
       "    </tr>\n",
       "    <tr>\n",
       "      <th>187</th>\n",
       "      <td>3.875000</td>\n",
       "      <td>1</td>\n",
       "    </tr>\n",
       "    <tr>\n",
       "      <th>188</th>\n",
       "      <td>3.627119</td>\n",
       "      <td>1</td>\n",
       "    </tr>\n",
       "    <tr>\n",
       "      <th>189</th>\n",
       "      <td>4.210526</td>\n",
       "      <td>1</td>\n",
       "    </tr>\n",
       "    <tr>\n",
       "      <th>190</th>\n",
       "      <td>3.658537</td>\n",
       "      <td>1</td>\n",
       "    </tr>\n",
       "    <tr>\n",
       "      <th>191</th>\n",
       "      <td>3.729167</td>\n",
       "      <td>1</td>\n",
       "    </tr>\n",
       "  </tbody>\n",
       "</table>\n",
       "<p>192 rows × 2 columns</p>\n",
       "</div>"
      ],
      "text/plain": [
       "     Nota da Avaliação  Quantidade de avaliações\n",
       "0             4.000000                       314\n",
       "1             3.000000                       279\n",
       "2             5.000000                       183\n",
       "3             2.000000                        80\n",
       "4             3.500000                        58\n",
       "..                 ...                       ...\n",
       "187           3.875000                         1\n",
       "188           3.627119                         1\n",
       "189           4.210526                         1\n",
       "190           3.658537                         1\n",
       "191           3.729167                         1\n",
       "\n",
       "[192 rows x 2 columns]"
      ]
     },
     "execution_count": 59,
     "metadata": {},
     "output_type": "execute_result"
    }
   ],
   "source": [
    "quantidade_total"
   ]
  },
  {
   "cell_type": "markdown",
   "id": "411b8f04",
   "metadata": {},
   "source": [
    "* Agora irei obter os valores correspondentes a uma média de avaliação superior ou igual a 4.7."
   ]
  },
  {
   "cell_type": "code",
   "execution_count": 60,
   "id": "f2c45793",
   "metadata": {},
   "outputs": [],
   "source": [
    "total = (quantidade_total[\"Nota da Avaliação\"] >= 4.7)"
   ]
  },
  {
   "cell_type": "code",
   "execution_count": 61,
   "id": "4155afcb",
   "metadata": {},
   "outputs": [],
   "source": [
    "total = quantidade_total[total]"
   ]
  },
  {
   "cell_type": "code",
   "execution_count": 62,
   "id": "e2cabed1",
   "metadata": {},
   "outputs": [
    {
     "data": {
      "text/html": [
       "<div>\n",
       "<style scoped>\n",
       "    .dataframe tbody tr th:only-of-type {\n",
       "        vertical-align: middle;\n",
       "    }\n",
       "\n",
       "    .dataframe tbody tr th {\n",
       "        vertical-align: top;\n",
       "    }\n",
       "\n",
       "    .dataframe thead th {\n",
       "        text-align: right;\n",
       "    }\n",
       "</style>\n",
       "<table border=\"1\" class=\"dataframe\">\n",
       "  <thead>\n",
       "    <tr style=\"text-align: right;\">\n",
       "      <th></th>\n",
       "      <th>Nota da Avaliação</th>\n",
       "      <th>Quantidade de avaliações</th>\n",
       "    </tr>\n",
       "  </thead>\n",
       "  <tbody>\n",
       "    <tr>\n",
       "      <th>2</th>\n",
       "      <td>5.000000</td>\n",
       "      <td>183</td>\n",
       "    </tr>\n",
       "    <tr>\n",
       "      <th>26</th>\n",
       "      <td>4.750000</td>\n",
       "      <td>7</td>\n",
       "    </tr>\n",
       "    <tr>\n",
       "      <th>56</th>\n",
       "      <td>4.875000</td>\n",
       "      <td>2</td>\n",
       "    </tr>\n",
       "    <tr>\n",
       "      <th>67</th>\n",
       "      <td>4.800000</td>\n",
       "      <td>2</td>\n",
       "    </tr>\n",
       "    <tr>\n",
       "      <th>124</th>\n",
       "      <td>4.714286</td>\n",
       "      <td>1</td>\n",
       "    </tr>\n",
       "  </tbody>\n",
       "</table>\n",
       "</div>"
      ],
      "text/plain": [
       "     Nota da Avaliação  Quantidade de avaliações\n",
       "2             5.000000                       183\n",
       "26            4.750000                         7\n",
       "56            4.875000                         2\n",
       "67            4.800000                         2\n",
       "124           4.714286                         1"
      ]
     },
     "execution_count": 62,
     "metadata": {},
     "output_type": "execute_result"
    }
   ],
   "source": [
    "total"
   ]
  },
  {
   "cell_type": "markdown",
   "id": "1322a952",
   "metadata": {},
   "source": [
    "* Agora irei somar os valores obtidos e terei o resultado"
   ]
  },
  {
   "cell_type": "code",
   "execution_count": 63,
   "id": "7ed18146",
   "metadata": {},
   "outputs": [],
   "source": [
    "total = total[\"Quantidade de avaliações\"].sum()"
   ]
  },
  {
   "cell_type": "code",
   "execution_count": 64,
   "id": "eaaed1c9",
   "metadata": {},
   "outputs": [
    {
     "name": "stdout",
     "output_type": "stream",
     "text": [
      "Considerando apenas a última data de avaliação, o conjunto de dados possue uma quatidade de 195 avaliações com média igual ou superior 4.7.\n"
     ]
    }
   ],
   "source": [
    "print(\"Considerando apenas a última data de avaliação, o conjunto de dados possue uma quatidade de {} avaliações com média igual ou superior 4.7.\" .format(total))"
   ]
  },
  {
   "cell_type": "markdown",
   "id": "3c2f989b",
   "metadata": {},
   "source": [
    "### (5) Dos filmes encontrados na questão anterior, quais são os 10 filmes com as piores notas e quais as notas?"
   ]
  },
  {
   "cell_type": "markdown",
   "id": "39ebb206",
   "metadata": {},
   "source": [
    "* Para responder essa questão irei criar um novo dataset a partir do dataset (avaliacao_media) já criado anteriormente e obter a média das avaliações por filme."
   ]
  },
  {
   "cell_type": "code",
   "execution_count": 65,
   "id": "855898aa",
   "metadata": {},
   "outputs": [],
   "source": [
    "piores_filmes = avaliacao_media.groupby(\"Movie_Id\")[\"Rating\"].mean()"
   ]
  },
  {
   "cell_type": "code",
   "execution_count": 66,
   "id": "bdcc9e89",
   "metadata": {},
   "outputs": [
    {
     "data": {
      "text/plain": [
       "Movie_Id\n",
       "8       3.666667\n",
       "12      3.000000\n",
       "16      5.000000\n",
       "18      2.500000\n",
       "25      4.000000\n",
       "          ...   \n",
       "4489    5.000000\n",
       "4492    2.000000\n",
       "4493    4.000000\n",
       "4495    4.500000\n",
       "4496    4.428571\n",
       "Name: Rating, Length: 1588, dtype: float64"
      ]
     },
     "execution_count": 66,
     "metadata": {},
     "output_type": "execute_result"
    }
   ],
   "source": [
    "piores_filmes"
   ]
  },
  {
   "cell_type": "markdown",
   "id": "ffebf103",
   "metadata": {},
   "source": [
    "* Agora irei transformar a série em dataframe e colocar o índice como coluna, já que o valor do Id do filme quando convertido para dataframe se tornou índice, sendo assim;"
   ]
  },
  {
   "cell_type": "code",
   "execution_count": 67,
   "id": "212e3851",
   "metadata": {},
   "outputs": [],
   "source": [
    "piores_filmes = piores_filmes.to_frame(name = \"media avaliacao\")"
   ]
  },
  {
   "cell_type": "code",
   "execution_count": 68,
   "id": "b199da61",
   "metadata": {},
   "outputs": [],
   "source": [
    "piores_filmes = piores_filmes.reset_index()"
   ]
  },
  {
   "cell_type": "code",
   "execution_count": 69,
   "id": "5f7cff20",
   "metadata": {},
   "outputs": [
    {
     "data": {
      "text/html": [
       "<div>\n",
       "<style scoped>\n",
       "    .dataframe tbody tr th:only-of-type {\n",
       "        vertical-align: middle;\n",
       "    }\n",
       "\n",
       "    .dataframe tbody tr th {\n",
       "        vertical-align: top;\n",
       "    }\n",
       "\n",
       "    .dataframe thead th {\n",
       "        text-align: right;\n",
       "    }\n",
       "</style>\n",
       "<table border=\"1\" class=\"dataframe\">\n",
       "  <thead>\n",
       "    <tr style=\"text-align: right;\">\n",
       "      <th></th>\n",
       "      <th>Movie_Id</th>\n",
       "      <th>media avaliacao</th>\n",
       "    </tr>\n",
       "  </thead>\n",
       "  <tbody>\n",
       "    <tr>\n",
       "      <th>0</th>\n",
       "      <td>8</td>\n",
       "      <td>3.666667</td>\n",
       "    </tr>\n",
       "    <tr>\n",
       "      <th>1</th>\n",
       "      <td>12</td>\n",
       "      <td>3.000000</td>\n",
       "    </tr>\n",
       "    <tr>\n",
       "      <th>2</th>\n",
       "      <td>16</td>\n",
       "      <td>5.000000</td>\n",
       "    </tr>\n",
       "    <tr>\n",
       "      <th>3</th>\n",
       "      <td>18</td>\n",
       "      <td>2.500000</td>\n",
       "    </tr>\n",
       "    <tr>\n",
       "      <th>4</th>\n",
       "      <td>25</td>\n",
       "      <td>4.000000</td>\n",
       "    </tr>\n",
       "    <tr>\n",
       "      <th>...</th>\n",
       "      <td>...</td>\n",
       "      <td>...</td>\n",
       "    </tr>\n",
       "    <tr>\n",
       "      <th>1583</th>\n",
       "      <td>4489</td>\n",
       "      <td>5.000000</td>\n",
       "    </tr>\n",
       "    <tr>\n",
       "      <th>1584</th>\n",
       "      <td>4492</td>\n",
       "      <td>2.000000</td>\n",
       "    </tr>\n",
       "    <tr>\n",
       "      <th>1585</th>\n",
       "      <td>4493</td>\n",
       "      <td>4.000000</td>\n",
       "    </tr>\n",
       "    <tr>\n",
       "      <th>1586</th>\n",
       "      <td>4495</td>\n",
       "      <td>4.500000</td>\n",
       "    </tr>\n",
       "    <tr>\n",
       "      <th>1587</th>\n",
       "      <td>4496</td>\n",
       "      <td>4.428571</td>\n",
       "    </tr>\n",
       "  </tbody>\n",
       "</table>\n",
       "<p>1588 rows × 2 columns</p>\n",
       "</div>"
      ],
      "text/plain": [
       "      Movie_Id  media avaliacao\n",
       "0            8         3.666667\n",
       "1           12         3.000000\n",
       "2           16         5.000000\n",
       "3           18         2.500000\n",
       "4           25         4.000000\n",
       "...        ...              ...\n",
       "1583      4489         5.000000\n",
       "1584      4492         2.000000\n",
       "1585      4493         4.000000\n",
       "1586      4495         4.500000\n",
       "1587      4496         4.428571\n",
       "\n",
       "[1588 rows x 2 columns]"
      ]
     },
     "execution_count": 69,
     "metadata": {},
     "output_type": "execute_result"
    }
   ],
   "source": [
    "piores_filmes"
   ]
  },
  {
   "cell_type": "markdown",
   "id": "72b7bc8f",
   "metadata": {},
   "source": [
    "* Agora irei obter os dados dos filmes com media superior ou igual a 4.7."
   ]
  },
  {
   "cell_type": "code",
   "execution_count": 70,
   "id": "75a0e48c",
   "metadata": {},
   "outputs": [],
   "source": [
    "total_filmes = (piores_filmes[\"media avaliacao\"] >= 4.7)"
   ]
  },
  {
   "cell_type": "code",
   "execution_count": 71,
   "id": "9ab77967",
   "metadata": {},
   "outputs": [],
   "source": [
    "total_filmes = piores_filmes[total_filmes]"
   ]
  },
  {
   "cell_type": "code",
   "execution_count": 72,
   "id": "314ebf83",
   "metadata": {},
   "outputs": [
    {
     "data": {
      "text/html": [
       "<div>\n",
       "<style scoped>\n",
       "    .dataframe tbody tr th:only-of-type {\n",
       "        vertical-align: middle;\n",
       "    }\n",
       "\n",
       "    .dataframe tbody tr th {\n",
       "        vertical-align: top;\n",
       "    }\n",
       "\n",
       "    .dataframe thead th {\n",
       "        text-align: right;\n",
       "    }\n",
       "</style>\n",
       "<table border=\"1\" class=\"dataframe\">\n",
       "  <thead>\n",
       "    <tr style=\"text-align: right;\">\n",
       "      <th></th>\n",
       "      <th>Movie_Id</th>\n",
       "      <th>media avaliacao</th>\n",
       "    </tr>\n",
       "  </thead>\n",
       "  <tbody>\n",
       "    <tr>\n",
       "      <th>2</th>\n",
       "      <td>16</td>\n",
       "      <td>5.00</td>\n",
       "    </tr>\n",
       "    <tr>\n",
       "      <th>12</th>\n",
       "      <td>52</td>\n",
       "      <td>5.00</td>\n",
       "    </tr>\n",
       "    <tr>\n",
       "      <th>13</th>\n",
       "      <td>55</td>\n",
       "      <td>5.00</td>\n",
       "    </tr>\n",
       "    <tr>\n",
       "      <th>26</th>\n",
       "      <td>116</td>\n",
       "      <td>5.00</td>\n",
       "    </tr>\n",
       "    <tr>\n",
       "      <th>28</th>\n",
       "      <td>121</td>\n",
       "      <td>5.00</td>\n",
       "    </tr>\n",
       "    <tr>\n",
       "      <th>...</th>\n",
       "      <td>...</td>\n",
       "      <td>...</td>\n",
       "    </tr>\n",
       "    <tr>\n",
       "      <th>1554</th>\n",
       "      <td>4400</td>\n",
       "      <td>5.00</td>\n",
       "    </tr>\n",
       "    <tr>\n",
       "      <th>1558</th>\n",
       "      <td>4407</td>\n",
       "      <td>5.00</td>\n",
       "    </tr>\n",
       "    <tr>\n",
       "      <th>1559</th>\n",
       "      <td>4409</td>\n",
       "      <td>4.75</td>\n",
       "    </tr>\n",
       "    <tr>\n",
       "      <th>1566</th>\n",
       "      <td>4427</td>\n",
       "      <td>5.00</td>\n",
       "    </tr>\n",
       "    <tr>\n",
       "      <th>1583</th>\n",
       "      <td>4489</td>\n",
       "      <td>5.00</td>\n",
       "    </tr>\n",
       "  </tbody>\n",
       "</table>\n",
       "<p>195 rows × 2 columns</p>\n",
       "</div>"
      ],
      "text/plain": [
       "      Movie_Id  media avaliacao\n",
       "2           16             5.00\n",
       "12          52             5.00\n",
       "13          55             5.00\n",
       "26         116             5.00\n",
       "28         121             5.00\n",
       "...        ...              ...\n",
       "1554      4400             5.00\n",
       "1558      4407             5.00\n",
       "1559      4409             4.75\n",
       "1566      4427             5.00\n",
       "1583      4489             5.00\n",
       "\n",
       "[195 rows x 2 columns]"
      ]
     },
     "execution_count": 72,
     "metadata": {},
     "output_type": "execute_result"
    }
   ],
   "source": [
    "total_filmes"
   ]
  },
  {
   "cell_type": "markdown",
   "id": "2e9be4d8",
   "metadata": {},
   "source": [
    "* Agora irei obter os valores ordenados em ordem crescente e terei a resposta dos 10 filmes através da função .head()"
   ]
  },
  {
   "cell_type": "code",
   "execution_count": 73,
   "id": "ba8d5d52",
   "metadata": {},
   "outputs": [],
   "source": [
    "total_filmes = total_filmes.sort_values(by = [\"media avaliacao\"])"
   ]
  },
  {
   "cell_type": "code",
   "execution_count": 74,
   "id": "740493b9",
   "metadata": {},
   "outputs": [
    {
     "data": {
      "text/html": [
       "<div>\n",
       "<style scoped>\n",
       "    .dataframe tbody tr th:only-of-type {\n",
       "        vertical-align: middle;\n",
       "    }\n",
       "\n",
       "    .dataframe tbody tr th {\n",
       "        vertical-align: top;\n",
       "    }\n",
       "\n",
       "    .dataframe thead th {\n",
       "        text-align: right;\n",
       "    }\n",
       "</style>\n",
       "<table border=\"1\" class=\"dataframe\">\n",
       "  <thead>\n",
       "    <tr style=\"text-align: right;\">\n",
       "      <th></th>\n",
       "      <th>Movie_Id</th>\n",
       "      <th>media avaliacao</th>\n",
       "    </tr>\n",
       "  </thead>\n",
       "  <tbody>\n",
       "    <tr>\n",
       "      <th>1208</th>\n",
       "      <td>3446</td>\n",
       "      <td>4.714286</td>\n",
       "    </tr>\n",
       "    <tr>\n",
       "      <th>1559</th>\n",
       "      <td>4409</td>\n",
       "      <td>4.750000</td>\n",
       "    </tr>\n",
       "    <tr>\n",
       "      <th>910</th>\n",
       "      <td>2585</td>\n",
       "      <td>4.750000</td>\n",
       "    </tr>\n",
       "    <tr>\n",
       "      <th>726</th>\n",
       "      <td>2129</td>\n",
       "      <td>4.750000</td>\n",
       "    </tr>\n",
       "    <tr>\n",
       "      <th>664</th>\n",
       "      <td>1947</td>\n",
       "      <td>4.750000</td>\n",
       "    </tr>\n",
       "    <tr>\n",
       "      <th>1248</th>\n",
       "      <td>3551</td>\n",
       "      <td>4.750000</td>\n",
       "    </tr>\n",
       "    <tr>\n",
       "      <th>613</th>\n",
       "      <td>1800</td>\n",
       "      <td>4.750000</td>\n",
       "    </tr>\n",
       "    <tr>\n",
       "      <th>419</th>\n",
       "      <td>1208</td>\n",
       "      <td>4.750000</td>\n",
       "    </tr>\n",
       "    <tr>\n",
       "      <th>244</th>\n",
       "      <td>677</td>\n",
       "      <td>4.800000</td>\n",
       "    </tr>\n",
       "    <tr>\n",
       "      <th>1530</th>\n",
       "      <td>4353</td>\n",
       "      <td>4.800000</td>\n",
       "    </tr>\n",
       "  </tbody>\n",
       "</table>\n",
       "</div>"
      ],
      "text/plain": [
       "      Movie_Id  media avaliacao\n",
       "1208      3446         4.714286\n",
       "1559      4409         4.750000\n",
       "910       2585         4.750000\n",
       "726       2129         4.750000\n",
       "664       1947         4.750000\n",
       "1248      3551         4.750000\n",
       "613       1800         4.750000\n",
       "419       1208         4.750000\n",
       "244        677         4.800000\n",
       "1530      4353         4.800000"
      ]
     },
     "execution_count": 74,
     "metadata": {},
     "output_type": "execute_result"
    }
   ],
   "source": [
    "total_filmes.head(10)"
   ]
  },
  {
   "cell_type": "markdown",
   "id": "f3ce5f57",
   "metadata": {},
   "source": [
    "* Com a função .iloc irei obter o nome dos filmes através do Id."
   ]
  },
  {
   "cell_type": "code",
   "execution_count": 75,
   "id": "b6af94f5",
   "metadata": {},
   "outputs": [],
   "source": [
    "primeiro_pior_avaliado = base_de_dados_01.iloc[3446][\"Filme e Ano\"]"
   ]
  },
  {
   "cell_type": "code",
   "execution_count": 76,
   "id": "90fbf71d",
   "metadata": {},
   "outputs": [],
   "source": [
    "segundo_pior_avaliado = base_de_dados_01.iloc[4409][\"Filme e Ano\"]"
   ]
  },
  {
   "cell_type": "code",
   "execution_count": 77,
   "id": "bb8feb9a",
   "metadata": {},
   "outputs": [],
   "source": [
    "terceiro_pior_avaliado = base_de_dados_01.iloc[2585][\"Filme e Ano\"]"
   ]
  },
  {
   "cell_type": "code",
   "execution_count": 78,
   "id": "f6dee020",
   "metadata": {},
   "outputs": [],
   "source": [
    "quarto_pior_avaliado = base_de_dados_01.iloc[2129][\"Filme e Ano\"]"
   ]
  },
  {
   "cell_type": "code",
   "execution_count": 79,
   "id": "3296a71e",
   "metadata": {},
   "outputs": [],
   "source": [
    "quinto_pior_avaliado = base_de_dados_01.iloc[1947][\"Filme e Ano\"]"
   ]
  },
  {
   "cell_type": "code",
   "execution_count": 80,
   "id": "242ef930",
   "metadata": {},
   "outputs": [],
   "source": [
    "sexto_pior_avaliado = base_de_dados_01.iloc[3551][\"Filme e Ano\"]"
   ]
  },
  {
   "cell_type": "code",
   "execution_count": 81,
   "id": "448e631c",
   "metadata": {},
   "outputs": [],
   "source": [
    "setimo_pior_avaliado = base_de_dados_01.iloc[1800][\"Filme e Ano\"]"
   ]
  },
  {
   "cell_type": "code",
   "execution_count": 82,
   "id": "13380f30",
   "metadata": {},
   "outputs": [],
   "source": [
    "oitavo_pior_avaliado = base_de_dados_01.iloc[1208][\"Filme e Ano\"]"
   ]
  },
  {
   "cell_type": "code",
   "execution_count": 83,
   "id": "e6d4e123",
   "metadata": {},
   "outputs": [],
   "source": [
    "nono_pior_avaliado = base_de_dados_01.iloc[667][\"Filme e Ano\"]"
   ]
  },
  {
   "cell_type": "code",
   "execution_count": 84,
   "id": "67c0b9de",
   "metadata": {},
   "outputs": [],
   "source": [
    "decimo_pior_avaliado = base_de_dados_01.iloc[4353][\"Filme e Ano\"]"
   ]
  },
  {
   "cell_type": "code",
   "execution_count": 85,
   "id": "e3328a43",
   "metadata": {
    "scrolled": true
   },
   "outputs": [
    {
     "name": "stdout",
     "output_type": "stream",
     "text": [
      "Dos filmes da questão anterior os piores avaliados foram: \n",
      " Primeiro: (Face the Evil, 1997) com uma avaliação de 4.714286, \n",
      " \n",
      " Segundo: (Live from Bonnaroo 2004, 2004) com uma avaliação de 4.750000, \n",
      " \n",
      " Terceiro: (The Game of Death, 2000) com uma avaliação de 4.750000, \n",
      " \n",
      " Quarto: (Citizen X, 1998) com uma avaliação de 4.750000, \n",
      " \n",
      " Quinto: (Beau Travail, 1999) com uma avaliação de 4.750000, \n",
      " \n",
      " Sexto: (Dirt Merchant, 1998) com uma avaliação de 4.750000, \n",
      " \n",
      " Sétimo: (That Darn Cat, 1965) com uma avaliação de 4.750000, \n",
      " \n",
      " Oitavo: (Swashbuckler, 1976) com uma avaliação de 4.750000, \n",
      " \n",
      " Nono: (Saturday Night Live: The Best of Will Ferrell 2, 2004) com uma avaliação de 4.800000, \n",
      " \n",
      " Décimo: (Fever Pitch, 1997) com uma avaliação de 4.800000.\n"
     ]
    }
   ],
   "source": [
    "print(\"Dos filmes da questão anterior os piores avaliados foram: \\n Primeiro: {} com uma avaliação de 4.714286, \\n \\n Segundo: {} com uma avaliação de 4.750000, \\n \\n Terceiro: {} com uma avaliação de 4.750000, \\n \\n Quarto: {} com uma avaliação de 4.750000, \\n \\n Quinto: {} com uma avaliação de 4.750000, \\n \\n Sexto: {} com uma avaliação de 4.750000, \\n \\n Sétimo: {} com uma avaliação de 4.750000, \\n \\n Oitavo: {} com uma avaliação de 4.750000, \\n \\n Nono: {} com uma avaliação de 4.800000, \\n \\n Décimo: {} com uma avaliação de 4.800000.\" .format(primeiro_pior_avaliado,segundo_pior_avaliado,terceiro_pior_avaliado,quarto_pior_avaliado,quinto_pior_avaliado,sexto_pior_avaliado,setimo_pior_avaliado,oitavo_pior_avaliado,nono_pior_avaliado,decimo_pior_avaliado))"
   ]
  },
  {
   "cell_type": "markdown",
   "id": "f5f2cb45",
   "metadata": {},
   "source": [
    "### (6) Quais os id's dos 5 customer que mais avaliaram filmes e quantas avaliações cada um fez?"
   ]
  },
  {
   "cell_type": "markdown",
   "id": "49235de3",
   "metadata": {},
   "source": [
    "* Para responder essa questão irei criar um novo dataset a partir do dataset (base_de_dados_02) obtendo apenas as colunas relevantes para a resolução da questão."
   ]
  },
  {
   "cell_type": "code",
   "execution_count": 86,
   "id": "a3da3d71",
   "metadata": {},
   "outputs": [],
   "source": [
    "cust_id = base_de_dados_02[[\"Cust_Id\",\"Rating\"]]"
   ]
  },
  {
   "cell_type": "code",
   "execution_count": 87,
   "id": "3f04aaf3",
   "metadata": {},
   "outputs": [
    {
     "data": {
      "text/html": [
       "<div>\n",
       "<style scoped>\n",
       "    .dataframe tbody tr th:only-of-type {\n",
       "        vertical-align: middle;\n",
       "    }\n",
       "\n",
       "    .dataframe tbody tr th {\n",
       "        vertical-align: top;\n",
       "    }\n",
       "\n",
       "    .dataframe thead th {\n",
       "        text-align: right;\n",
       "    }\n",
       "</style>\n",
       "<table border=\"1\" class=\"dataframe\">\n",
       "  <thead>\n",
       "    <tr style=\"text-align: right;\">\n",
       "      <th></th>\n",
       "      <th>Cust_Id</th>\n",
       "      <th>Rating</th>\n",
       "    </tr>\n",
       "  </thead>\n",
       "  <tbody>\n",
       "    <tr>\n",
       "      <th>0</th>\n",
       "      <td>1488844</td>\n",
       "      <td>3.0</td>\n",
       "    </tr>\n",
       "    <tr>\n",
       "      <th>1</th>\n",
       "      <td>822109</td>\n",
       "      <td>5.0</td>\n",
       "    </tr>\n",
       "    <tr>\n",
       "      <th>2</th>\n",
       "      <td>885013</td>\n",
       "      <td>4.0</td>\n",
       "    </tr>\n",
       "    <tr>\n",
       "      <th>3</th>\n",
       "      <td>30878</td>\n",
       "      <td>4.0</td>\n",
       "    </tr>\n",
       "    <tr>\n",
       "      <th>4</th>\n",
       "      <td>823519</td>\n",
       "      <td>3.0</td>\n",
       "    </tr>\n",
       "    <tr>\n",
       "      <th>...</th>\n",
       "      <td>...</td>\n",
       "      <td>...</td>\n",
       "    </tr>\n",
       "    <tr>\n",
       "      <th>24053759</th>\n",
       "      <td>2591364</td>\n",
       "      <td>2.0</td>\n",
       "    </tr>\n",
       "    <tr>\n",
       "      <th>24053760</th>\n",
       "      <td>1791000</td>\n",
       "      <td>2.0</td>\n",
       "    </tr>\n",
       "    <tr>\n",
       "      <th>24053761</th>\n",
       "      <td>512536</td>\n",
       "      <td>5.0</td>\n",
       "    </tr>\n",
       "    <tr>\n",
       "      <th>24053762</th>\n",
       "      <td>988963</td>\n",
       "      <td>3.0</td>\n",
       "    </tr>\n",
       "    <tr>\n",
       "      <th>24053763</th>\n",
       "      <td>1704416</td>\n",
       "      <td>3.0</td>\n",
       "    </tr>\n",
       "  </tbody>\n",
       "</table>\n",
       "<p>24053764 rows × 2 columns</p>\n",
       "</div>"
      ],
      "text/plain": [
       "          Cust_Id  Rating\n",
       "0         1488844     3.0\n",
       "1          822109     5.0\n",
       "2          885013     4.0\n",
       "3           30878     4.0\n",
       "4          823519     3.0\n",
       "...           ...     ...\n",
       "24053759  2591364     2.0\n",
       "24053760  1791000     2.0\n",
       "24053761   512536     5.0\n",
       "24053762   988963     3.0\n",
       "24053763  1704416     3.0\n",
       "\n",
       "[24053764 rows x 2 columns]"
      ]
     },
     "execution_count": 87,
     "metadata": {},
     "output_type": "execute_result"
    }
   ],
   "source": [
    "cust_id"
   ]
  },
  {
   "cell_type": "markdown",
   "id": "c896991c",
   "metadata": {},
   "source": [
    "* Irei ordenar os valores do dataset e verificarei o valor total de avaliação de cada customer com obetivo saber quais Custumers avaliaram com maior frequência."
   ]
  },
  {
   "cell_type": "code",
   "execution_count": 88,
   "id": "31186e66",
   "metadata": {},
   "outputs": [],
   "source": [
    "cust_id = cust_id.sort_values(by = [\"Rating\"])"
   ]
  },
  {
   "cell_type": "code",
   "execution_count": 89,
   "id": "bd27df40",
   "metadata": {},
   "outputs": [
    {
     "data": {
      "text/plain": [
       "Cust_Id  Rating\n",
       "2439493  1.0       3851\n",
       "305344   1.0       2416\n",
       "1639792  1.0       2139\n",
       "1461435  1.0       2068\n",
       "1664010  5.0       2060\n",
       "                   ... \n",
       "2278515  5.0          1\n",
       "         4.0          1\n",
       "395707   2.0          1\n",
       "2278512  2.0          1\n",
       "1774204  2.0          1\n",
       "Length: 1819556, dtype: int64"
      ]
     },
     "execution_count": 89,
     "metadata": {},
     "output_type": "execute_result"
    }
   ],
   "source": [
    "cust_id.value_counts()"
   ]
  },
  {
   "cell_type": "markdown",
   "id": "d527b667",
   "metadata": {},
   "source": [
    "* Agora irei criar um novo dataset contabilizando as avaliações que cada Customer fez, em seguida irei ordenar os valores para obter o resultado final."
   ]
  },
  {
   "cell_type": "code",
   "execution_count": 90,
   "id": "840c9bd1",
   "metadata": {},
   "outputs": [],
   "source": [
    "frequencia = cust_id.groupby(\"Cust_Id\")[\"Rating\"].count()"
   ]
  },
  {
   "cell_type": "code",
   "execution_count": 91,
   "id": "10f17dcf",
   "metadata": {},
   "outputs": [
    {
     "data": {
      "text/plain": [
       "Cust_Id\n",
       "6          153\n",
       "7          195\n",
       "8           21\n",
       "10          49\n",
       "25           4\n",
       "          ... \n",
       "2649404     12\n",
       "2649409     10\n",
       "2649421      3\n",
       "2649426     74\n",
       "2649429     62\n",
       "Name: Rating, Length: 470758, dtype: int64"
      ]
     },
     "execution_count": 91,
     "metadata": {},
     "output_type": "execute_result"
    }
   ],
   "source": [
    "frequencia"
   ]
  },
  {
   "cell_type": "code",
   "execution_count": 92,
   "id": "c1982da0",
   "metadata": {},
   "outputs": [],
   "source": [
    "frequencia = frequencia.sort_values()"
   ]
  },
  {
   "cell_type": "code",
   "execution_count": 93,
   "id": "3102210f",
   "metadata": {},
   "outputs": [],
   "source": [
    "final = frequencia.tail()"
   ]
  },
  {
   "cell_type": "code",
   "execution_count": 94,
   "id": "d60388f8",
   "metadata": {},
   "outputs": [],
   "source": [
    "final = final.to_frame(name = \"Total de avaliacoes\")"
   ]
  },
  {
   "cell_type": "code",
   "execution_count": 95,
   "id": "31b6cf7c",
   "metadata": {},
   "outputs": [],
   "source": [
    "final = final.reset_index()"
   ]
  },
  {
   "cell_type": "code",
   "execution_count": 96,
   "id": "dea33bfe",
   "metadata": {},
   "outputs": [
    {
     "data": {
      "text/html": [
       "<div>\n",
       "<style scoped>\n",
       "    .dataframe tbody tr th:only-of-type {\n",
       "        vertical-align: middle;\n",
       "    }\n",
       "\n",
       "    .dataframe tbody tr th {\n",
       "        vertical-align: top;\n",
       "    }\n",
       "\n",
       "    .dataframe thead th {\n",
       "        text-align: right;\n",
       "    }\n",
       "</style>\n",
       "<table border=\"1\" class=\"dataframe\">\n",
       "  <thead>\n",
       "    <tr style=\"text-align: right;\">\n",
       "      <th></th>\n",
       "      <th>Cust_Id</th>\n",
       "      <th>Total de avaliacoes</th>\n",
       "    </tr>\n",
       "  </thead>\n",
       "  <tbody>\n",
       "    <tr>\n",
       "      <th>0</th>\n",
       "      <td>2118461</td>\n",
       "      <td>3769</td>\n",
       "    </tr>\n",
       "    <tr>\n",
       "      <th>1</th>\n",
       "      <td>1664010</td>\n",
       "      <td>4019</td>\n",
       "    </tr>\n",
       "    <tr>\n",
       "      <th>2</th>\n",
       "      <td>2439493</td>\n",
       "      <td>4195</td>\n",
       "    </tr>\n",
       "    <tr>\n",
       "      <th>3</th>\n",
       "      <td>387418</td>\n",
       "      <td>4422</td>\n",
       "    </tr>\n",
       "    <tr>\n",
       "      <th>4</th>\n",
       "      <td>305344</td>\n",
       "      <td>4467</td>\n",
       "    </tr>\n",
       "  </tbody>\n",
       "</table>\n",
       "</div>"
      ],
      "text/plain": [
       "   Cust_Id  Total de avaliacoes\n",
       "0  2118461                 3769\n",
       "1  1664010                 4019\n",
       "2  2439493                 4195\n",
       "3   387418                 4422\n",
       "4   305344                 4467"
      ]
     },
     "execution_count": 96,
     "metadata": {},
     "output_type": "execute_result"
    }
   ],
   "source": [
    "final"
   ]
  },
  {
   "cell_type": "code",
   "execution_count": 97,
   "id": "1f54795b",
   "metadata": {},
   "outputs": [],
   "source": [
    "ids = [\"305344\",\"387418\",\"2439493\",\"1664010\",\"2118461\"]"
   ]
  },
  {
   "cell_type": "code",
   "execution_count": 98,
   "id": "3121e092",
   "metadata": {},
   "outputs": [],
   "source": [
    "total_avaliacoes = [4467,4422,4195,4019,3769]"
   ]
  },
  {
   "cell_type": "code",
   "execution_count": 99,
   "id": "02867b1d",
   "metadata": {},
   "outputs": [
    {
     "name": "stdout",
     "output_type": "stream",
     "text": [
      "Os Ids que mais avaliaram foram: \n",
      " Primeiro: 305344 com 4467 avaliações, \n",
      " Segundo: 387418 com 4422 avaliações, \n",
      " Terceiro: 2439493 com 4195 avaliações, \n",
      " Quarto: 1664010 com 4019 avaliações, \n",
      " Quint: 2118461 com 3769 avaliações.\n"
     ]
    }
   ],
   "source": [
    "print(\"Os Ids que mais avaliaram foram: \\n Primeiro: 305344 com 4467 avaliações, \\n Segundo: 387418 com 4422 avaliações, \\n Terceiro: 2439493 com 4195 avaliações, \\n Quarto: 1664010 com 4019 avaliações, \\n Quint: 2118461 com 3769 avaliações.\")"
   ]
  },
  {
   "cell_type": "code",
   "execution_count": 100,
   "id": "66f6df78",
   "metadata": {},
   "outputs": [
    {
     "data": {
      "image/png": "[encoded data removed]",
      "text/plain": [
       "<Figure size 432x288 with 1 Axes>"
      ]
     },
     "metadata": {
      "needs_background": "light"
     },
     "output_type": "display_data"
    }
   ],
   "source": [
    "plt.bar(ids, total_avaliacoes, color=\"blue\")\n",
    "plt.title(\"Total Avaliação do Customers que mais avaliaram\")\n",
    "plt.ylabel(\"Total de avaliações\")\n",
    "plt.xlabel(\"Cust ID\")\n",
    "\n",
    "for x,y in zip(ids,total_avaliacoes):\n",
    "    plt.text(x,y, \"%d\" % y,  ha = \"center\",va = \"bottom\")"
   ]
  },
  {
   "cell_type": "markdown",
   "id": "19f4a831",
   "metadata": {},
   "source": [
    "# Análise básica estatística"
   ]
  },
  {
   "cell_type": "markdown",
   "id": "e71008d2",
   "metadata": {},
   "source": [
    "* O desenvolvimento de uma análise estatística pode originar insights que podem gerar valor. Para isso irei desenvolver algumas funções que tem como objetivo automatizar o processo de criação de alguns gráficos com o objetivo de facilitar a visualização para tomada de decisão. <br> Irei desenvolver 4 funções, uma para retirar os outliers do gráfico boxplot, um para a criação de um diagrama de caixa, outro para a criação de um histograma e, por fim, um para o gráfico de barras."
   ]
  },
  {
   "cell_type": "code",
   "execution_count": 101,
   "id": "0e659243",
   "metadata": {},
   "outputs": [],
   "source": [
    "def limites(coluna):\n",
    "    quartil_01 = coluna.quantile(0.25)\n",
    "    quartil_03 = coluna.quantile(0.75)\n",
    "    amplitude = quartil_03 - quartil_01\n",
    "    limite_inferior = quartil_01 - 1.5 * amplitude\n",
    "    limite_superior = quartil_03 + 1.5 * amplitude\n",
    "    return limite_inferior, limite_superior\n",
    "\n",
    "def diagrama_caixa(coluna):\n",
    "    fig, (ax1, ax2) = plt.subplots(1, 2)\n",
    "    fig.set_size_inches(15, 5)\n",
    "    sns.boxplot(x = coluna, ax = ax1)\n",
    "    ax2.set_xlim(limites(coluna))\n",
    "    sns.boxplot(x = coluna, ax = ax2)\n",
    "\n",
    "def histograma(coluna):\n",
    "    plt.figure(figsize = (15, 5))\n",
    "    sns.distplot(coluna, hist = True)\n",
    "    \n",
    "def grafico_barra(coluna):\n",
    "    plt.figure(figsize = (15, 5))\n",
    "    sns.barplot(x = coluna.value_counts().index, y = coluna.value_counts())"
   ]
  },
  {
   "cell_type": "markdown",
   "id": "e5a9ef43",
   "metadata": {},
   "source": [
    "* Inicialmente irei verificar o crescimento de lançamento de filmes no decorrer do tempo. Para isso irei verificar o histograma, gráfico de linha e box plot da base_dados_data."
   ]
  },
  {
   "cell_type": "code",
   "execution_count": 102,
   "id": "f4232124",
   "metadata": {},
   "outputs": [
    {
     "name": "stderr",
     "output_type": "stream",
     "text": [
      "/home/diego/.local/lib/python3.9/site-packages/seaborn/distributions.py:2619: FutureWarning: `distplot` is a deprecated function and will be removed in a future version. Please adapt your code to use either `displot` (a figure-level function with similar flexibility) or `histplot` (an axes-level function for histograms).\n",
      "  warnings.warn(msg, FutureWarning)\n"
     ]
    },
    {
     "data": {
      "image/png": "[encoded data removed]",
      "text/plain": [
       "<Figure size 1080x360 with 1 Axes>"
      ]
     },
     "metadata": {
      "needs_background": "light"
     },
     "output_type": "display_data"
    }
   ],
   "source": [
    "histograma(base_dados_data[\"Ano de Lançamento\"])"
   ]
  },
  {
   "cell_type": "code",
   "execution_count": 103,
   "id": "1e2416a8",
   "metadata": {},
   "outputs": [],
   "source": [
    "base_dados_data_numero = base_dados_data.groupby(\"Ano de Lançamento\")[\"Filme\"].count()"
   ]
  },
  {
   "cell_type": "code",
   "execution_count": 104,
   "id": "3a104122",
   "metadata": {},
   "outputs": [
    {
     "data": {
      "text/plain": [
       "<AxesSubplot:xlabel='Ano de Lançamento', ylabel='Filme'>"
      ]
     },
     "execution_count": 104,
     "metadata": {},
     "output_type": "execute_result"
    },
    {
     "data": {
      "image/png": "[encoded data removed]",
      "text/plain": [
       "<Figure size 1440x720 with 1 Axes>"
      ]
     },
     "metadata": {
      "needs_background": "light"
     },
     "output_type": "display_data"
    }
   ],
   "source": [
    "plt.figure(figsize=(20,10))\n",
    "sns.lineplot(data = base_dados_data_numero)"
   ]
  },
  {
   "cell_type": "markdown",
   "id": "92e18682",
   "metadata": {},
   "source": [
    "* O boxplot pode verificar aonde estão concentrados os dados referentes aos filmes lançados por ano."
   ]
  },
  {
   "cell_type": "code",
   "execution_count": 105,
   "id": "d29f521c",
   "metadata": {},
   "outputs": [
    {
     "data": {
      "image/png": "[encoded data removed]",
      "text/plain": [
       "<Figure size 1080x360 with 2 Axes>"
      ]
     },
     "metadata": {
      "needs_background": "light"
     },
     "output_type": "display_data"
    }
   ],
   "source": [
    "diagrama_caixa(base_dados_data[\"Ano de Lançamento\"])"
   ]
  },
  {
   "cell_type": "markdown",
   "id": "ad318cdf",
   "metadata": {},
   "source": [
    "* **Se no conjunto de dados (Base_01 e Base_02) possuíssem os dados referentes ao gênero dos filmes, através das avaliações, seria possível criar um algoritmo para análise de sentimentos e recomendações de filmes.**"
   ]
  },
  {
   "cell_type": "code",
   "execution_count": 107,
   "id": "913d44b6",
   "metadata": {},
   "outputs": [
    {
     "data": {
      "text/html": [
       "<div>\n",
       "<style scoped>\n",
       "    .dataframe tbody tr th:only-of-type {\n",
       "        vertical-align: middle;\n",
       "    }\n",
       "\n",
       "    .dataframe tbody tr th {\n",
       "        vertical-align: top;\n",
       "    }\n",
       "\n",
       "    .dataframe thead th {\n",
       "        text-align: right;\n",
       "    }\n",
       "</style>\n",
       "<table border=\"1\" class=\"dataframe\">\n",
       "  <thead>\n",
       "    <tr style=\"text-align: right;\">\n",
       "      <th></th>\n",
       "      <th>Movie_Id</th>\n",
       "      <th>media avaliacao</th>\n",
       "    </tr>\n",
       "  </thead>\n",
       "  <tbody>\n",
       "    <tr>\n",
       "      <th>1208</th>\n",
       "      <td>3446</td>\n",
       "      <td>4.714286</td>\n",
       "    </tr>\n",
       "    <tr>\n",
       "      <th>1559</th>\n",
       "      <td>4409</td>\n",
       "      <td>4.750000</td>\n",
       "    </tr>\n",
       "    <tr>\n",
       "      <th>910</th>\n",
       "      <td>2585</td>\n",
       "      <td>4.750000</td>\n",
       "    </tr>\n",
       "    <tr>\n",
       "      <th>726</th>\n",
       "      <td>2129</td>\n",
       "      <td>4.750000</td>\n",
       "    </tr>\n",
       "    <tr>\n",
       "      <th>664</th>\n",
       "      <td>1947</td>\n",
       "      <td>4.750000</td>\n",
       "    </tr>\n",
       "    <tr>\n",
       "      <th>...</th>\n",
       "      <td>...</td>\n",
       "      <td>...</td>\n",
       "    </tr>\n",
       "    <tr>\n",
       "      <th>470</th>\n",
       "      <td>1360</td>\n",
       "      <td>5.000000</td>\n",
       "    </tr>\n",
       "    <tr>\n",
       "      <th>471</th>\n",
       "      <td>1362</td>\n",
       "      <td>5.000000</td>\n",
       "    </tr>\n",
       "    <tr>\n",
       "      <th>480</th>\n",
       "      <td>1389</td>\n",
       "      <td>5.000000</td>\n",
       "    </tr>\n",
       "    <tr>\n",
       "      <th>437</th>\n",
       "      <td>1261</td>\n",
       "      <td>5.000000</td>\n",
       "    </tr>\n",
       "    <tr>\n",
       "      <th>1583</th>\n",
       "      <td>4489</td>\n",
       "      <td>5.000000</td>\n",
       "    </tr>\n",
       "  </tbody>\n",
       "</table>\n",
       "<p>195 rows × 2 columns</p>\n",
       "</div>"
      ],
      "text/plain": [
       "      Movie_Id  media avaliacao\n",
       "1208      3446         4.714286\n",
       "1559      4409         4.750000\n",
       "910       2585         4.750000\n",
       "726       2129         4.750000\n",
       "664       1947         4.750000\n",
       "...        ...              ...\n",
       "470       1360         5.000000\n",
       "471       1362         5.000000\n",
       "480       1389         5.000000\n",
       "437       1261         5.000000\n",
       "1583      4489         5.000000\n",
       "\n",
       "[195 rows x 2 columns]"
      ]
     },
     "execution_count": 107,
     "metadata": {},
     "output_type": "execute_result"
    }
   ],
   "source": [
    "total_filmes_avaliacao = total_filmes"
   ]
  },
  {
   "cell_type": "code",
   "execution_count": null,
   "id": "5fbe4adc",
   "metadata": {},
   "outputs": [],
   "source": []
  }
 ],
 "metadata": {
  "kernelspec": {
   "display_name": "Python 3 (ipykernel)",
   "language": "python",
   "name": "python3"
  },
  "language_info": {
   "codemirror_mode": {
    "name": "ipython",
    "version": 3
   },
   "file_extension": ".py",
   "mimetype": "text/x-python",
   "name": "python",
   "nbconvert_exporter": "python",
   "pygments_lexer": "ipython3",
   "version": "3.9.2"
  }
 },
 "nbformat": 4,
 "nbformat_minor": 5
}
